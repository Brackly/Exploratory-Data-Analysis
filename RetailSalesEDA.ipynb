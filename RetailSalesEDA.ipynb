{
  "nbformat": 4,
  "nbformat_minor": 0,
  "metadata": {
    "colab": {
      "provenance": [],
      "collapsed_sections": [
        "QAmpx2x6JQIB",
        "p_CGVkYUJfCb",
        "FBiUwCA_J0oM",
        "rT11KwdpMAAH",
        "0bSC0-voMepV",
        "v11zbemRPlNX",
        "7wiUPOKnX7xV"
      ],
      "authorship_tag": "ABX9TyM7oNTtkD6xBHZ0yifeofvJ",
      "include_colab_link": true
    },
    "kernelspec": {
      "name": "python3",
      "display_name": "Python 3"
    },
    "language_info": {
      "name": "python"
    }
  },
  "cells": [
    {
      "cell_type": "markdown",
      "metadata": {
        "id": "view-in-github",
        "colab_type": "text"
      },
      "source": [
        "<a href=\"https://colab.research.google.com/github/Brackly/Exploratory-Data-Analysis/blob/main/RetailSalesEDA.ipynb\" target=\"_parent\"><img src=\"https://colab.research.google.com/assets/colab-badge.svg\" alt=\"Open In Colab\"/></a>"
      ]
    },
    {
      "cell_type": "markdown",
      "source": [
        "#EXPLORATORY DATA ANALYSIS OF RETAIL DATA (SALES OF ITEMS)"
      ],
      "metadata": {
        "id": "iRjb8h1fvYgs"
      }
    },
    {
      "cell_type": "markdown",
      "source": [
        "#Loading data and libraries"
      ],
      "metadata": {
        "id": "NSBMTo7aXZZ6"
      }
    },
    {
      "cell_type": "code",
      "source": [
        "!pip install wquantiles"
      ],
      "metadata": {
        "colab": {
          "base_uri": "https://localhost:8080/"
        },
        "id": "x-kpawL9Lr1u",
        "outputId": "85dda7ae-3863-4cff-c239-436a995bd7ed"
      },
      "execution_count": null,
      "outputs": [
        {
          "output_type": "stream",
          "name": "stdout",
          "text": [
            "Collecting wquantiles\n",
            "  Downloading wquantiles-0.6-py3-none-any.whl (3.3 kB)\n",
            "Requirement already satisfied: numpy>=1.18 in /usr/local/lib/python3.10/dist-packages (from wquantiles) (1.22.4)\n",
            "Installing collected packages: wquantiles\n",
            "Successfully installed wquantiles-0.6\n"
          ]
        }
      ]
    },
    {
      "cell_type": "code",
      "source": [
        "import pandas as pd\n",
        "import seaborn as sns\n",
        "import numpy as np\n",
        "import matplotlib.pyplot as plt\n",
        "from scipy.stats import trim_mean\n",
        "import wquantiles"
      ],
      "metadata": {
        "id": "QVR_XPWDGLKh"
      },
      "execution_count": null,
      "outputs": []
    },
    {
      "cell_type": "code",
      "execution_count": null,
      "metadata": {
        "id": "xzulNxSiGEgu"
      },
      "outputs": [],
      "source": [
        "urls= {\n",
        "    \"products\":\"https://raw.githubusercontent.com/Brackly/Retail_sales-data-exploration-using-sql/master/SalesLT.Product.csv\",\n",
        "    \"sales_orders\":\"https://raw.githubusercontent.com/Brackly/Retail_sales-data-exploration-using-sql/master/SalesLT.SalesOrderDetail.csv\",\n",
        "    \"customer_orders\":\"https://raw.githubusercontent.com/Brackly/Retail_sales-data-exploration-using-sql/master/SalesLT.SalesOrderHeader.csv\"\n",
        "}"
      ]
    },
    {
      "cell_type": "code",
      "source": [
        "path=urls[\"sales_orders\"]\n",
        "df = pd.read_csv(path,index_col=\"SalesOrderID\")\n",
        "df.head()"
      ],
      "metadata": {
        "colab": {
          "base_uri": "https://localhost:8080/",
          "height": 238
        },
        "id": "MgzrX5ZyGJNO",
        "outputId": "46b0cdde-4a80-46d8-fea3-3ba662bf60e9"
      },
      "execution_count": 52,
      "outputs": [
        {
          "output_type": "execute_result",
          "data": {
            "text/plain": [
              "              SalesOrderDetailID  OrderQty  ProductID  UnitPrice  \\\n",
              "SalesOrderID                                                       \n",
              "71774                     110562         1        836    356.898   \n",
              "71774                     110563         1        822    356.898   \n",
              "71776                     110567         1        907     63.900   \n",
              "71780                     110616         4        905    218.454   \n",
              "71780                     110617         2        983    461.694   \n",
              "\n",
              "              UnitPriceDiscount  LineTotal  \\\n",
              "SalesOrderID                                 \n",
              "71774                       0.0    356.898   \n",
              "71774                       0.0    356.898   \n",
              "71776                       0.0     63.900   \n",
              "71780                       0.0    873.816   \n",
              "71780                       0.0    923.388   \n",
              "\n",
              "                                           rowguid             ModifiedDate  \n",
              "SalesOrderID                                                                 \n",
              "71774         e3a1994c-7a68-4ce8-96a3-77fdd3bbd730  2008-06-01 00:00:00.000  \n",
              "71774         5c77f557-fdb6-43ba-90b9-9a7aec55ca32  2008-06-01 00:00:00.000  \n",
              "71776         6dbfe398-d15d-425e-aa58-88178fe360e5  2008-06-01 00:00:00.000  \n",
              "71780         377246c9-4483-48ed-a5b9-e56f005364e0  2008-06-01 00:00:00.000  \n",
              "71780         43a54bcd-536d-4a1b-8e69-24d083507a14  2008-06-01 00:00:00.000  "
            ],
            "text/html": [
              "\n",
              "\n",
              "  <div id=\"df-dc93abd3-402f-482e-b414-349518cce63d\">\n",
              "    <div class=\"colab-df-container\">\n",
              "      <div>\n",
              "<style scoped>\n",
              "    .dataframe tbody tr th:only-of-type {\n",
              "        vertical-align: middle;\n",
              "    }\n",
              "\n",
              "    .dataframe tbody tr th {\n",
              "        vertical-align: top;\n",
              "    }\n",
              "\n",
              "    .dataframe thead th {\n",
              "        text-align: right;\n",
              "    }\n",
              "</style>\n",
              "<table border=\"1\" class=\"dataframe\">\n",
              "  <thead>\n",
              "    <tr style=\"text-align: right;\">\n",
              "      <th></th>\n",
              "      <th>SalesOrderDetailID</th>\n",
              "      <th>OrderQty</th>\n",
              "      <th>ProductID</th>\n",
              "      <th>UnitPrice</th>\n",
              "      <th>UnitPriceDiscount</th>\n",
              "      <th>LineTotal</th>\n",
              "      <th>rowguid</th>\n",
              "      <th>ModifiedDate</th>\n",
              "    </tr>\n",
              "    <tr>\n",
              "      <th>SalesOrderID</th>\n",
              "      <th></th>\n",
              "      <th></th>\n",
              "      <th></th>\n",
              "      <th></th>\n",
              "      <th></th>\n",
              "      <th></th>\n",
              "      <th></th>\n",
              "      <th></th>\n",
              "    </tr>\n",
              "  </thead>\n",
              "  <tbody>\n",
              "    <tr>\n",
              "      <th>71774</th>\n",
              "      <td>110562</td>\n",
              "      <td>1</td>\n",
              "      <td>836</td>\n",
              "      <td>356.898</td>\n",
              "      <td>0.0</td>\n",
              "      <td>356.898</td>\n",
              "      <td>e3a1994c-7a68-4ce8-96a3-77fdd3bbd730</td>\n",
              "      <td>2008-06-01 00:00:00.000</td>\n",
              "    </tr>\n",
              "    <tr>\n",
              "      <th>71774</th>\n",
              "      <td>110563</td>\n",
              "      <td>1</td>\n",
              "      <td>822</td>\n",
              "      <td>356.898</td>\n",
              "      <td>0.0</td>\n",
              "      <td>356.898</td>\n",
              "      <td>5c77f557-fdb6-43ba-90b9-9a7aec55ca32</td>\n",
              "      <td>2008-06-01 00:00:00.000</td>\n",
              "    </tr>\n",
              "    <tr>\n",
              "      <th>71776</th>\n",
              "      <td>110567</td>\n",
              "      <td>1</td>\n",
              "      <td>907</td>\n",
              "      <td>63.900</td>\n",
              "      <td>0.0</td>\n",
              "      <td>63.900</td>\n",
              "      <td>6dbfe398-d15d-425e-aa58-88178fe360e5</td>\n",
              "      <td>2008-06-01 00:00:00.000</td>\n",
              "    </tr>\n",
              "    <tr>\n",
              "      <th>71780</th>\n",
              "      <td>110616</td>\n",
              "      <td>4</td>\n",
              "      <td>905</td>\n",
              "      <td>218.454</td>\n",
              "      <td>0.0</td>\n",
              "      <td>873.816</td>\n",
              "      <td>377246c9-4483-48ed-a5b9-e56f005364e0</td>\n",
              "      <td>2008-06-01 00:00:00.000</td>\n",
              "    </tr>\n",
              "    <tr>\n",
              "      <th>71780</th>\n",
              "      <td>110617</td>\n",
              "      <td>2</td>\n",
              "      <td>983</td>\n",
              "      <td>461.694</td>\n",
              "      <td>0.0</td>\n",
              "      <td>923.388</td>\n",
              "      <td>43a54bcd-536d-4a1b-8e69-24d083507a14</td>\n",
              "      <td>2008-06-01 00:00:00.000</td>\n",
              "    </tr>\n",
              "  </tbody>\n",
              "</table>\n",
              "</div>\n",
              "      <button class=\"colab-df-convert\" onclick=\"convertToInteractive('df-dc93abd3-402f-482e-b414-349518cce63d')\"\n",
              "              title=\"Convert this dataframe to an interactive table.\"\n",
              "              style=\"display:none;\">\n",
              "\n",
              "  <svg xmlns=\"http://www.w3.org/2000/svg\" height=\"24px\"viewBox=\"0 0 24 24\"\n",
              "       width=\"24px\">\n",
              "    <path d=\"M0 0h24v24H0V0z\" fill=\"none\"/>\n",
              "    <path d=\"M18.56 5.44l.94 2.06.94-2.06 2.06-.94-2.06-.94-.94-2.06-.94 2.06-2.06.94zm-11 1L8.5 8.5l.94-2.06 2.06-.94-2.06-.94L8.5 2.5l-.94 2.06-2.06.94zm10 10l.94 2.06.94-2.06 2.06-.94-2.06-.94-.94-2.06-.94 2.06-2.06.94z\"/><path d=\"M17.41 7.96l-1.37-1.37c-.4-.4-.92-.59-1.43-.59-.52 0-1.04.2-1.43.59L10.3 9.45l-7.72 7.72c-.78.78-.78 2.05 0 2.83L4 21.41c.39.39.9.59 1.41.59.51 0 1.02-.2 1.41-.59l7.78-7.78 2.81-2.81c.8-.78.8-2.07 0-2.86zM5.41 20L4 18.59l7.72-7.72 1.47 1.35L5.41 20z\"/>\n",
              "  </svg>\n",
              "      </button>\n",
              "\n",
              "\n",
              "\n",
              "    <div id=\"df-30374b11-cbf3-46ec-a3ba-7a5438edc0d2\">\n",
              "      <button class=\"colab-df-quickchart\" onclick=\"quickchart('df-30374b11-cbf3-46ec-a3ba-7a5438edc0d2')\"\n",
              "              title=\"Suggest charts.\"\n",
              "              style=\"display:none;\">\n",
              "\n",
              "<svg xmlns=\"http://www.w3.org/2000/svg\" height=\"24px\"viewBox=\"0 0 24 24\"\n",
              "     width=\"24px\">\n",
              "    <g>\n",
              "        <path d=\"M19 3H5c-1.1 0-2 .9-2 2v14c0 1.1.9 2 2 2h14c1.1 0 2-.9 2-2V5c0-1.1-.9-2-2-2zM9 17H7v-7h2v7zm4 0h-2V7h2v10zm4 0h-2v-4h2v4z\"/>\n",
              "    </g>\n",
              "</svg>\n",
              "      </button>\n",
              "    </div>\n",
              "\n",
              "<style>\n",
              "  .colab-df-quickchart {\n",
              "    background-color: #E8F0FE;\n",
              "    border: none;\n",
              "    border-radius: 50%;\n",
              "    cursor: pointer;\n",
              "    display: none;\n",
              "    fill: #1967D2;\n",
              "    height: 32px;\n",
              "    padding: 0 0 0 0;\n",
              "    width: 32px;\n",
              "  }\n",
              "\n",
              "  .colab-df-quickchart:hover {\n",
              "    background-color: #E2EBFA;\n",
              "    box-shadow: 0px 1px 2px rgba(60, 64, 67, 0.3), 0px 1px 3px 1px rgba(60, 64, 67, 0.15);\n",
              "    fill: #174EA6;\n",
              "  }\n",
              "\n",
              "  [theme=dark] .colab-df-quickchart {\n",
              "    background-color: #3B4455;\n",
              "    fill: #D2E3FC;\n",
              "  }\n",
              "\n",
              "  [theme=dark] .colab-df-quickchart:hover {\n",
              "    background-color: #434B5C;\n",
              "    box-shadow: 0px 1px 3px 1px rgba(0, 0, 0, 0.15);\n",
              "    filter: drop-shadow(0px 1px 2px rgba(0, 0, 0, 0.3));\n",
              "    fill: #FFFFFF;\n",
              "  }\n",
              "</style>\n",
              "\n",
              "    <script>\n",
              "      async function quickchart(key) {\n",
              "        const containerElement = document.querySelector('#' + key);\n",
              "        const charts = await google.colab.kernel.invokeFunction(\n",
              "            'suggestCharts', [key], {});\n",
              "      }\n",
              "    </script>\n",
              "\n",
              "      <script>\n",
              "\n",
              "function displayQuickchartButton(domScope) {\n",
              "  let quickchartButtonEl =\n",
              "    domScope.querySelector('#df-30374b11-cbf3-46ec-a3ba-7a5438edc0d2 button.colab-df-quickchart');\n",
              "  quickchartButtonEl.style.display =\n",
              "    google.colab.kernel.accessAllowed ? 'block' : 'none';\n",
              "}\n",
              "\n",
              "        displayQuickchartButton(document);\n",
              "      </script>\n",
              "      <style>\n",
              "    .colab-df-container {\n",
              "      display:flex;\n",
              "      flex-wrap:wrap;\n",
              "      gap: 12px;\n",
              "    }\n",
              "\n",
              "    .colab-df-convert {\n",
              "      background-color: #E8F0FE;\n",
              "      border: none;\n",
              "      border-radius: 50%;\n",
              "      cursor: pointer;\n",
              "      display: none;\n",
              "      fill: #1967D2;\n",
              "      height: 32px;\n",
              "      padding: 0 0 0 0;\n",
              "      width: 32px;\n",
              "    }\n",
              "\n",
              "    .colab-df-convert:hover {\n",
              "      background-color: #E2EBFA;\n",
              "      box-shadow: 0px 1px 2px rgba(60, 64, 67, 0.3), 0px 1px 3px 1px rgba(60, 64, 67, 0.15);\n",
              "      fill: #174EA6;\n",
              "    }\n",
              "\n",
              "    [theme=dark] .colab-df-convert {\n",
              "      background-color: #3B4455;\n",
              "      fill: #D2E3FC;\n",
              "    }\n",
              "\n",
              "    [theme=dark] .colab-df-convert:hover {\n",
              "      background-color: #434B5C;\n",
              "      box-shadow: 0px 1px 3px 1px rgba(0, 0, 0, 0.15);\n",
              "      filter: drop-shadow(0px 1px 2px rgba(0, 0, 0, 0.3));\n",
              "      fill: #FFFFFF;\n",
              "    }\n",
              "  </style>\n",
              "\n",
              "      <script>\n",
              "        const buttonEl =\n",
              "          document.querySelector('#df-dc93abd3-402f-482e-b414-349518cce63d button.colab-df-convert');\n",
              "        buttonEl.style.display =\n",
              "          google.colab.kernel.accessAllowed ? 'block' : 'none';\n",
              "\n",
              "        async function convertToInteractive(key) {\n",
              "          const element = document.querySelector('#df-dc93abd3-402f-482e-b414-349518cce63d');\n",
              "          const dataTable =\n",
              "            await google.colab.kernel.invokeFunction('convertToInteractive',\n",
              "                                                     [key], {});\n",
              "          if (!dataTable) return;\n",
              "\n",
              "          const docLinkHtml = 'Like what you see? Visit the ' +\n",
              "            '<a target=\"_blank\" href=https://colab.research.google.com/notebooks/data_table.ipynb>data table notebook</a>'\n",
              "            + ' to learn more about interactive tables.';\n",
              "          element.innerHTML = '';\n",
              "          dataTable['output_type'] = 'display_data';\n",
              "          await google.colab.output.renderOutput(dataTable, element);\n",
              "          const docLink = document.createElement('div');\n",
              "          docLink.innerHTML = docLinkHtml;\n",
              "          element.appendChild(docLink);\n",
              "        }\n",
              "      </script>\n",
              "    </div>\n",
              "  </div>\n"
            ]
          },
          "metadata": {},
          "execution_count": 52
        }
      ]
    },
    {
      "cell_type": "code",
      "source": [
        "prod_path=urls[\"products\"]\n",
        "prods=pd.read_csv(prod_path,index_col=\"ProductID\")\n",
        "prods.head()"
      ],
      "metadata": {
        "colab": {
          "base_uri": "https://localhost:8080/",
          "height": 562
        },
        "id": "FKRDn9oallg-",
        "outputId": "15b69591-8b5a-44de-ee88-3dc0c0fdcbf2"
      },
      "execution_count": 53,
      "outputs": [
        {
          "output_type": "execute_result",
          "data": {
            "text/plain": [
              "                                Name ProductNumber  Color  StandardCost  \\\n",
              "ProductID                                                                 \n",
              "680        HL Road Frame - Black, 58    FR-R92B-58  Black     1059.3100   \n",
              "706          HL Road Frame - Red, 58    FR-R92R-58    Red     1059.3100   \n",
              "707            Sport-100 Helmet, Red     HL-U509-R    Red       13.0863   \n",
              "708          Sport-100 Helmet, Black       HL-U509  Black       13.0863   \n",
              "709           Mountain Bike Socks, M     SO-B909-M  White        3.3963   \n",
              "\n",
              "           ListPrice Size   Weight  ProductCategoryID  ProductModelID  \\\n",
              "ProductID                                                               \n",
              "680          1431.50   58  1016.04                 18               6   \n",
              "706          1431.50   58  1016.04                 18               6   \n",
              "707            34.99  NaN      NaN                 35              33   \n",
              "708            34.99  NaN      NaN                 35              33   \n",
              "709             9.50    M      NaN                 27              18   \n",
              "\n",
              "                     SellStartDate              SellEndDate  DiscontinuedDate  \\\n",
              "ProductID                                                                       \n",
              "680        2002-06-01 00:00:00.000                      NaN               NaN   \n",
              "706        2002-06-01 00:00:00.000                      NaN               NaN   \n",
              "707        2005-07-01 00:00:00.000                      NaN               NaN   \n",
              "708        2005-07-01 00:00:00.000                      NaN               NaN   \n",
              "709        2005-07-01 00:00:00.000  2006-06-30 00:00:00.000               NaN   \n",
              "\n",
              "                                              ThumbNailPhoto  \\\n",
              "ProductID                                                      \n",
              "680        0x47494638396150003100F70000000000800000008000...   \n",
              "706        0x47494638396150003100F70000000000800000008000...   \n",
              "707        0x47494638396150003100F70000000000800000008000...   \n",
              "708        0x47494638396150003100F70000000000800000008000...   \n",
              "709        0x47494638396150003100F70000000000800000008000...   \n",
              "\n",
              "                 ThumbnailPhotoFileName                               rowguid  \\\n",
              "ProductID                                                                       \n",
              "680        no_image_available_small.gif  43dd68d6-14a4-461f-9069-55309d90ea7e   \n",
              "706        no_image_available_small.gif  9540ff17-2712-4c90-a3d1-8ce5568b2462   \n",
              "707        no_image_available_small.gif  2e1ef41a-c08a-4ff6-8ada-bde58b64a712   \n",
              "708        no_image_available_small.gif  a25a44fb-c2de-4268-958f-110b8d7621e2   \n",
              "709        no_image_available_small.gif  18f95f47-1540-4e02-8f1f-cc1bcb6828d0   \n",
              "\n",
              "                      ModifiedDate  \n",
              "ProductID                           \n",
              "680        2008-03-11 10:01:36.827  \n",
              "706        2008-03-11 10:01:36.827  \n",
              "707        2008-03-11 10:01:36.827  \n",
              "708        2008-03-11 10:01:36.827  \n",
              "709        2008-03-11 10:01:36.827  "
            ],
            "text/html": [
              "\n",
              "\n",
              "  <div id=\"df-2c4aa39f-1a62-48e8-a8ae-c8bccb740e12\">\n",
              "    <div class=\"colab-df-container\">\n",
              "      <div>\n",
              "<style scoped>\n",
              "    .dataframe tbody tr th:only-of-type {\n",
              "        vertical-align: middle;\n",
              "    }\n",
              "\n",
              "    .dataframe tbody tr th {\n",
              "        vertical-align: top;\n",
              "    }\n",
              "\n",
              "    .dataframe thead th {\n",
              "        text-align: right;\n",
              "    }\n",
              "</style>\n",
              "<table border=\"1\" class=\"dataframe\">\n",
              "  <thead>\n",
              "    <tr style=\"text-align: right;\">\n",
              "      <th></th>\n",
              "      <th>Name</th>\n",
              "      <th>ProductNumber</th>\n",
              "      <th>Color</th>\n",
              "      <th>StandardCost</th>\n",
              "      <th>ListPrice</th>\n",
              "      <th>Size</th>\n",
              "      <th>Weight</th>\n",
              "      <th>ProductCategoryID</th>\n",
              "      <th>ProductModelID</th>\n",
              "      <th>SellStartDate</th>\n",
              "      <th>SellEndDate</th>\n",
              "      <th>DiscontinuedDate</th>\n",
              "      <th>ThumbNailPhoto</th>\n",
              "      <th>ThumbnailPhotoFileName</th>\n",
              "      <th>rowguid</th>\n",
              "      <th>ModifiedDate</th>\n",
              "    </tr>\n",
              "    <tr>\n",
              "      <th>ProductID</th>\n",
              "      <th></th>\n",
              "      <th></th>\n",
              "      <th></th>\n",
              "      <th></th>\n",
              "      <th></th>\n",
              "      <th></th>\n",
              "      <th></th>\n",
              "      <th></th>\n",
              "      <th></th>\n",
              "      <th></th>\n",
              "      <th></th>\n",
              "      <th></th>\n",
              "      <th></th>\n",
              "      <th></th>\n",
              "      <th></th>\n",
              "      <th></th>\n",
              "    </tr>\n",
              "  </thead>\n",
              "  <tbody>\n",
              "    <tr>\n",
              "      <th>680</th>\n",
              "      <td>HL Road Frame - Black, 58</td>\n",
              "      <td>FR-R92B-58</td>\n",
              "      <td>Black</td>\n",
              "      <td>1059.3100</td>\n",
              "      <td>1431.50</td>\n",
              "      <td>58</td>\n",
              "      <td>1016.04</td>\n",
              "      <td>18</td>\n",
              "      <td>6</td>\n",
              "      <td>2002-06-01 00:00:00.000</td>\n",
              "      <td>NaN</td>\n",
              "      <td>NaN</td>\n",
              "      <td>0x47494638396150003100F70000000000800000008000...</td>\n",
              "      <td>no_image_available_small.gif</td>\n",
              "      <td>43dd68d6-14a4-461f-9069-55309d90ea7e</td>\n",
              "      <td>2008-03-11 10:01:36.827</td>\n",
              "    </tr>\n",
              "    <tr>\n",
              "      <th>706</th>\n",
              "      <td>HL Road Frame - Red, 58</td>\n",
              "      <td>FR-R92R-58</td>\n",
              "      <td>Red</td>\n",
              "      <td>1059.3100</td>\n",
              "      <td>1431.50</td>\n",
              "      <td>58</td>\n",
              "      <td>1016.04</td>\n",
              "      <td>18</td>\n",
              "      <td>6</td>\n",
              "      <td>2002-06-01 00:00:00.000</td>\n",
              "      <td>NaN</td>\n",
              "      <td>NaN</td>\n",
              "      <td>0x47494638396150003100F70000000000800000008000...</td>\n",
              "      <td>no_image_available_small.gif</td>\n",
              "      <td>9540ff17-2712-4c90-a3d1-8ce5568b2462</td>\n",
              "      <td>2008-03-11 10:01:36.827</td>\n",
              "    </tr>\n",
              "    <tr>\n",
              "      <th>707</th>\n",
              "      <td>Sport-100 Helmet, Red</td>\n",
              "      <td>HL-U509-R</td>\n",
              "      <td>Red</td>\n",
              "      <td>13.0863</td>\n",
              "      <td>34.99</td>\n",
              "      <td>NaN</td>\n",
              "      <td>NaN</td>\n",
              "      <td>35</td>\n",
              "      <td>33</td>\n",
              "      <td>2005-07-01 00:00:00.000</td>\n",
              "      <td>NaN</td>\n",
              "      <td>NaN</td>\n",
              "      <td>0x47494638396150003100F70000000000800000008000...</td>\n",
              "      <td>no_image_available_small.gif</td>\n",
              "      <td>2e1ef41a-c08a-4ff6-8ada-bde58b64a712</td>\n",
              "      <td>2008-03-11 10:01:36.827</td>\n",
              "    </tr>\n",
              "    <tr>\n",
              "      <th>708</th>\n",
              "      <td>Sport-100 Helmet, Black</td>\n",
              "      <td>HL-U509</td>\n",
              "      <td>Black</td>\n",
              "      <td>13.0863</td>\n",
              "      <td>34.99</td>\n",
              "      <td>NaN</td>\n",
              "      <td>NaN</td>\n",
              "      <td>35</td>\n",
              "      <td>33</td>\n",
              "      <td>2005-07-01 00:00:00.000</td>\n",
              "      <td>NaN</td>\n",
              "      <td>NaN</td>\n",
              "      <td>0x47494638396150003100F70000000000800000008000...</td>\n",
              "      <td>no_image_available_small.gif</td>\n",
              "      <td>a25a44fb-c2de-4268-958f-110b8d7621e2</td>\n",
              "      <td>2008-03-11 10:01:36.827</td>\n",
              "    </tr>\n",
              "    <tr>\n",
              "      <th>709</th>\n",
              "      <td>Mountain Bike Socks, M</td>\n",
              "      <td>SO-B909-M</td>\n",
              "      <td>White</td>\n",
              "      <td>3.3963</td>\n",
              "      <td>9.50</td>\n",
              "      <td>M</td>\n",
              "      <td>NaN</td>\n",
              "      <td>27</td>\n",
              "      <td>18</td>\n",
              "      <td>2005-07-01 00:00:00.000</td>\n",
              "      <td>2006-06-30 00:00:00.000</td>\n",
              "      <td>NaN</td>\n",
              "      <td>0x47494638396150003100F70000000000800000008000...</td>\n",
              "      <td>no_image_available_small.gif</td>\n",
              "      <td>18f95f47-1540-4e02-8f1f-cc1bcb6828d0</td>\n",
              "      <td>2008-03-11 10:01:36.827</td>\n",
              "    </tr>\n",
              "  </tbody>\n",
              "</table>\n",
              "</div>\n",
              "      <button class=\"colab-df-convert\" onclick=\"convertToInteractive('df-2c4aa39f-1a62-48e8-a8ae-c8bccb740e12')\"\n",
              "              title=\"Convert this dataframe to an interactive table.\"\n",
              "              style=\"display:none;\">\n",
              "\n",
              "  <svg xmlns=\"http://www.w3.org/2000/svg\" height=\"24px\"viewBox=\"0 0 24 24\"\n",
              "       width=\"24px\">\n",
              "    <path d=\"M0 0h24v24H0V0z\" fill=\"none\"/>\n",
              "    <path d=\"M18.56 5.44l.94 2.06.94-2.06 2.06-.94-2.06-.94-.94-2.06-.94 2.06-2.06.94zm-11 1L8.5 8.5l.94-2.06 2.06-.94-2.06-.94L8.5 2.5l-.94 2.06-2.06.94zm10 10l.94 2.06.94-2.06 2.06-.94-2.06-.94-.94-2.06-.94 2.06-2.06.94z\"/><path d=\"M17.41 7.96l-1.37-1.37c-.4-.4-.92-.59-1.43-.59-.52 0-1.04.2-1.43.59L10.3 9.45l-7.72 7.72c-.78.78-.78 2.05 0 2.83L4 21.41c.39.39.9.59 1.41.59.51 0 1.02-.2 1.41-.59l7.78-7.78 2.81-2.81c.8-.78.8-2.07 0-2.86zM5.41 20L4 18.59l7.72-7.72 1.47 1.35L5.41 20z\"/>\n",
              "  </svg>\n",
              "      </button>\n",
              "\n",
              "\n",
              "\n",
              "    <div id=\"df-dfaea6b1-e999-40e1-a189-7365e7d82ffa\">\n",
              "      <button class=\"colab-df-quickchart\" onclick=\"quickchart('df-dfaea6b1-e999-40e1-a189-7365e7d82ffa')\"\n",
              "              title=\"Suggest charts.\"\n",
              "              style=\"display:none;\">\n",
              "\n",
              "<svg xmlns=\"http://www.w3.org/2000/svg\" height=\"24px\"viewBox=\"0 0 24 24\"\n",
              "     width=\"24px\">\n",
              "    <g>\n",
              "        <path d=\"M19 3H5c-1.1 0-2 .9-2 2v14c0 1.1.9 2 2 2h14c1.1 0 2-.9 2-2V5c0-1.1-.9-2-2-2zM9 17H7v-7h2v7zm4 0h-2V7h2v10zm4 0h-2v-4h2v4z\"/>\n",
              "    </g>\n",
              "</svg>\n",
              "      </button>\n",
              "    </div>\n",
              "\n",
              "<style>\n",
              "  .colab-df-quickchart {\n",
              "    background-color: #E8F0FE;\n",
              "    border: none;\n",
              "    border-radius: 50%;\n",
              "    cursor: pointer;\n",
              "    display: none;\n",
              "    fill: #1967D2;\n",
              "    height: 32px;\n",
              "    padding: 0 0 0 0;\n",
              "    width: 32px;\n",
              "  }\n",
              "\n",
              "  .colab-df-quickchart:hover {\n",
              "    background-color: #E2EBFA;\n",
              "    box-shadow: 0px 1px 2px rgba(60, 64, 67, 0.3), 0px 1px 3px 1px rgba(60, 64, 67, 0.15);\n",
              "    fill: #174EA6;\n",
              "  }\n",
              "\n",
              "  [theme=dark] .colab-df-quickchart {\n",
              "    background-color: #3B4455;\n",
              "    fill: #D2E3FC;\n",
              "  }\n",
              "\n",
              "  [theme=dark] .colab-df-quickchart:hover {\n",
              "    background-color: #434B5C;\n",
              "    box-shadow: 0px 1px 3px 1px rgba(0, 0, 0, 0.15);\n",
              "    filter: drop-shadow(0px 1px 2px rgba(0, 0, 0, 0.3));\n",
              "    fill: #FFFFFF;\n",
              "  }\n",
              "</style>\n",
              "\n",
              "    <script>\n",
              "      async function quickchart(key) {\n",
              "        const containerElement = document.querySelector('#' + key);\n",
              "        const charts = await google.colab.kernel.invokeFunction(\n",
              "            'suggestCharts', [key], {});\n",
              "      }\n",
              "    </script>\n",
              "\n",
              "      <script>\n",
              "\n",
              "function displayQuickchartButton(domScope) {\n",
              "  let quickchartButtonEl =\n",
              "    domScope.querySelector('#df-dfaea6b1-e999-40e1-a189-7365e7d82ffa button.colab-df-quickchart');\n",
              "  quickchartButtonEl.style.display =\n",
              "    google.colab.kernel.accessAllowed ? 'block' : 'none';\n",
              "}\n",
              "\n",
              "        displayQuickchartButton(document);\n",
              "      </script>\n",
              "      <style>\n",
              "    .colab-df-container {\n",
              "      display:flex;\n",
              "      flex-wrap:wrap;\n",
              "      gap: 12px;\n",
              "    }\n",
              "\n",
              "    .colab-df-convert {\n",
              "      background-color: #E8F0FE;\n",
              "      border: none;\n",
              "      border-radius: 50%;\n",
              "      cursor: pointer;\n",
              "      display: none;\n",
              "      fill: #1967D2;\n",
              "      height: 32px;\n",
              "      padding: 0 0 0 0;\n",
              "      width: 32px;\n",
              "    }\n",
              "\n",
              "    .colab-df-convert:hover {\n",
              "      background-color: #E2EBFA;\n",
              "      box-shadow: 0px 1px 2px rgba(60, 64, 67, 0.3), 0px 1px 3px 1px rgba(60, 64, 67, 0.15);\n",
              "      fill: #174EA6;\n",
              "    }\n",
              "\n",
              "    [theme=dark] .colab-df-convert {\n",
              "      background-color: #3B4455;\n",
              "      fill: #D2E3FC;\n",
              "    }\n",
              "\n",
              "    [theme=dark] .colab-df-convert:hover {\n",
              "      background-color: #434B5C;\n",
              "      box-shadow: 0px 1px 3px 1px rgba(0, 0, 0, 0.15);\n",
              "      filter: drop-shadow(0px 1px 2px rgba(0, 0, 0, 0.3));\n",
              "      fill: #FFFFFF;\n",
              "    }\n",
              "  </style>\n",
              "\n",
              "      <script>\n",
              "        const buttonEl =\n",
              "          document.querySelector('#df-2c4aa39f-1a62-48e8-a8ae-c8bccb740e12 button.colab-df-convert');\n",
              "        buttonEl.style.display =\n",
              "          google.colab.kernel.accessAllowed ? 'block' : 'none';\n",
              "\n",
              "        async function convertToInteractive(key) {\n",
              "          const element = document.querySelector('#df-2c4aa39f-1a62-48e8-a8ae-c8bccb740e12');\n",
              "          const dataTable =\n",
              "            await google.colab.kernel.invokeFunction('convertToInteractive',\n",
              "                                                     [key], {});\n",
              "          if (!dataTable) return;\n",
              "\n",
              "          const docLinkHtml = 'Like what you see? Visit the ' +\n",
              "            '<a target=\"_blank\" href=https://colab.research.google.com/notebooks/data_table.ipynb>data table notebook</a>'\n",
              "            + ' to learn more about interactive tables.';\n",
              "          element.innerHTML = '';\n",
              "          dataTable['output_type'] = 'display_data';\n",
              "          await google.colab.output.renderOutput(dataTable, element);\n",
              "          const docLink = document.createElement('div');\n",
              "          docLink.innerHTML = docLinkHtml;\n",
              "          element.appendChild(docLink);\n",
              "        }\n",
              "      </script>\n",
              "    </div>\n",
              "  </div>\n"
            ]
          },
          "metadata": {},
          "execution_count": 53
        }
      ]
    },
    {
      "cell_type": "code",
      "source": [
        "prods2=pd.DataFrame(data=prods,columns={\"ProductCategoryID\":\"ProductCategoryID\"})\n",
        "prods2.head()"
      ],
      "metadata": {
        "colab": {
          "base_uri": "https://localhost:8080/",
          "height": 238
        },
        "id": "6y-5bXzRp9Fi",
        "outputId": "da48b865-2967-448c-d103-89c1d18bcf00"
      },
      "execution_count": 64,
      "outputs": [
        {
          "output_type": "execute_result",
          "data": {
            "text/plain": [
              "           ProductCategoryID\n",
              "ProductID                   \n",
              "680                       18\n",
              "706                       18\n",
              "707                       35\n",
              "708                       35\n",
              "709                       27"
            ],
            "text/html": [
              "\n",
              "\n",
              "  <div id=\"df-f395e82a-cbe6-4e29-80c7-3e7f5c9923c7\">\n",
              "    <div class=\"colab-df-container\">\n",
              "      <div>\n",
              "<style scoped>\n",
              "    .dataframe tbody tr th:only-of-type {\n",
              "        vertical-align: middle;\n",
              "    }\n",
              "\n",
              "    .dataframe tbody tr th {\n",
              "        vertical-align: top;\n",
              "    }\n",
              "\n",
              "    .dataframe thead th {\n",
              "        text-align: right;\n",
              "    }\n",
              "</style>\n",
              "<table border=\"1\" class=\"dataframe\">\n",
              "  <thead>\n",
              "    <tr style=\"text-align: right;\">\n",
              "      <th></th>\n",
              "      <th>ProductCategoryID</th>\n",
              "    </tr>\n",
              "    <tr>\n",
              "      <th>ProductID</th>\n",
              "      <th></th>\n",
              "    </tr>\n",
              "  </thead>\n",
              "  <tbody>\n",
              "    <tr>\n",
              "      <th>680</th>\n",
              "      <td>18</td>\n",
              "    </tr>\n",
              "    <tr>\n",
              "      <th>706</th>\n",
              "      <td>18</td>\n",
              "    </tr>\n",
              "    <tr>\n",
              "      <th>707</th>\n",
              "      <td>35</td>\n",
              "    </tr>\n",
              "    <tr>\n",
              "      <th>708</th>\n",
              "      <td>35</td>\n",
              "    </tr>\n",
              "    <tr>\n",
              "      <th>709</th>\n",
              "      <td>27</td>\n",
              "    </tr>\n",
              "  </tbody>\n",
              "</table>\n",
              "</div>\n",
              "      <button class=\"colab-df-convert\" onclick=\"convertToInteractive('df-f395e82a-cbe6-4e29-80c7-3e7f5c9923c7')\"\n",
              "              title=\"Convert this dataframe to an interactive table.\"\n",
              "              style=\"display:none;\">\n",
              "\n",
              "  <svg xmlns=\"http://www.w3.org/2000/svg\" height=\"24px\"viewBox=\"0 0 24 24\"\n",
              "       width=\"24px\">\n",
              "    <path d=\"M0 0h24v24H0V0z\" fill=\"none\"/>\n",
              "    <path d=\"M18.56 5.44l.94 2.06.94-2.06 2.06-.94-2.06-.94-.94-2.06-.94 2.06-2.06.94zm-11 1L8.5 8.5l.94-2.06 2.06-.94-2.06-.94L8.5 2.5l-.94 2.06-2.06.94zm10 10l.94 2.06.94-2.06 2.06-.94-2.06-.94-.94-2.06-.94 2.06-2.06.94z\"/><path d=\"M17.41 7.96l-1.37-1.37c-.4-.4-.92-.59-1.43-.59-.52 0-1.04.2-1.43.59L10.3 9.45l-7.72 7.72c-.78.78-.78 2.05 0 2.83L4 21.41c.39.39.9.59 1.41.59.51 0 1.02-.2 1.41-.59l7.78-7.78 2.81-2.81c.8-.78.8-2.07 0-2.86zM5.41 20L4 18.59l7.72-7.72 1.47 1.35L5.41 20z\"/>\n",
              "  </svg>\n",
              "      </button>\n",
              "\n",
              "\n",
              "\n",
              "    <div id=\"df-2d63e853-f62f-49f6-b459-1e676188ae70\">\n",
              "      <button class=\"colab-df-quickchart\" onclick=\"quickchart('df-2d63e853-f62f-49f6-b459-1e676188ae70')\"\n",
              "              title=\"Suggest charts.\"\n",
              "              style=\"display:none;\">\n",
              "\n",
              "<svg xmlns=\"http://www.w3.org/2000/svg\" height=\"24px\"viewBox=\"0 0 24 24\"\n",
              "     width=\"24px\">\n",
              "    <g>\n",
              "        <path d=\"M19 3H5c-1.1 0-2 .9-2 2v14c0 1.1.9 2 2 2h14c1.1 0 2-.9 2-2V5c0-1.1-.9-2-2-2zM9 17H7v-7h2v7zm4 0h-2V7h2v10zm4 0h-2v-4h2v4z\"/>\n",
              "    </g>\n",
              "</svg>\n",
              "      </button>\n",
              "    </div>\n",
              "\n",
              "<style>\n",
              "  .colab-df-quickchart {\n",
              "    background-color: #E8F0FE;\n",
              "    border: none;\n",
              "    border-radius: 50%;\n",
              "    cursor: pointer;\n",
              "    display: none;\n",
              "    fill: #1967D2;\n",
              "    height: 32px;\n",
              "    padding: 0 0 0 0;\n",
              "    width: 32px;\n",
              "  }\n",
              "\n",
              "  .colab-df-quickchart:hover {\n",
              "    background-color: #E2EBFA;\n",
              "    box-shadow: 0px 1px 2px rgba(60, 64, 67, 0.3), 0px 1px 3px 1px rgba(60, 64, 67, 0.15);\n",
              "    fill: #174EA6;\n",
              "  }\n",
              "\n",
              "  [theme=dark] .colab-df-quickchart {\n",
              "    background-color: #3B4455;\n",
              "    fill: #D2E3FC;\n",
              "  }\n",
              "\n",
              "  [theme=dark] .colab-df-quickchart:hover {\n",
              "    background-color: #434B5C;\n",
              "    box-shadow: 0px 1px 3px 1px rgba(0, 0, 0, 0.15);\n",
              "    filter: drop-shadow(0px 1px 2px rgba(0, 0, 0, 0.3));\n",
              "    fill: #FFFFFF;\n",
              "  }\n",
              "</style>\n",
              "\n",
              "    <script>\n",
              "      async function quickchart(key) {\n",
              "        const containerElement = document.querySelector('#' + key);\n",
              "        const charts = await google.colab.kernel.invokeFunction(\n",
              "            'suggestCharts', [key], {});\n",
              "      }\n",
              "    </script>\n",
              "\n",
              "      <script>\n",
              "\n",
              "function displayQuickchartButton(domScope) {\n",
              "  let quickchartButtonEl =\n",
              "    domScope.querySelector('#df-2d63e853-f62f-49f6-b459-1e676188ae70 button.colab-df-quickchart');\n",
              "  quickchartButtonEl.style.display =\n",
              "    google.colab.kernel.accessAllowed ? 'block' : 'none';\n",
              "}\n",
              "\n",
              "        displayQuickchartButton(document);\n",
              "      </script>\n",
              "      <style>\n",
              "    .colab-df-container {\n",
              "      display:flex;\n",
              "      flex-wrap:wrap;\n",
              "      gap: 12px;\n",
              "    }\n",
              "\n",
              "    .colab-df-convert {\n",
              "      background-color: #E8F0FE;\n",
              "      border: none;\n",
              "      border-radius: 50%;\n",
              "      cursor: pointer;\n",
              "      display: none;\n",
              "      fill: #1967D2;\n",
              "      height: 32px;\n",
              "      padding: 0 0 0 0;\n",
              "      width: 32px;\n",
              "    }\n",
              "\n",
              "    .colab-df-convert:hover {\n",
              "      background-color: #E2EBFA;\n",
              "      box-shadow: 0px 1px 2px rgba(60, 64, 67, 0.3), 0px 1px 3px 1px rgba(60, 64, 67, 0.15);\n",
              "      fill: #174EA6;\n",
              "    }\n",
              "\n",
              "    [theme=dark] .colab-df-convert {\n",
              "      background-color: #3B4455;\n",
              "      fill: #D2E3FC;\n",
              "    }\n",
              "\n",
              "    [theme=dark] .colab-df-convert:hover {\n",
              "      background-color: #434B5C;\n",
              "      box-shadow: 0px 1px 3px 1px rgba(0, 0, 0, 0.15);\n",
              "      filter: drop-shadow(0px 1px 2px rgba(0, 0, 0, 0.3));\n",
              "      fill: #FFFFFF;\n",
              "    }\n",
              "  </style>\n",
              "\n",
              "      <script>\n",
              "        const buttonEl =\n",
              "          document.querySelector('#df-f395e82a-cbe6-4e29-80c7-3e7f5c9923c7 button.colab-df-convert');\n",
              "        buttonEl.style.display =\n",
              "          google.colab.kernel.accessAllowed ? 'block' : 'none';\n",
              "\n",
              "        async function convertToInteractive(key) {\n",
              "          const element = document.querySelector('#df-f395e82a-cbe6-4e29-80c7-3e7f5c9923c7');\n",
              "          const dataTable =\n",
              "            await google.colab.kernel.invokeFunction('convertToInteractive',\n",
              "                                                     [key], {});\n",
              "          if (!dataTable) return;\n",
              "\n",
              "          const docLinkHtml = 'Like what you see? Visit the ' +\n",
              "            '<a target=\"_blank\" href=https://colab.research.google.com/notebooks/data_table.ipynb>data table notebook</a>'\n",
              "            + ' to learn more about interactive tables.';\n",
              "          element.innerHTML = '';\n",
              "          dataTable['output_type'] = 'display_data';\n",
              "          await google.colab.output.renderOutput(dataTable, element);\n",
              "          const docLink = document.createElement('div');\n",
              "          docLink.innerHTML = docLinkHtml;\n",
              "          element.appendChild(docLink);\n",
              "        }\n",
              "      </script>\n",
              "    </div>\n",
              "  </div>\n"
            ]
          },
          "metadata": {},
          "execution_count": 64
        }
      ]
    },
    {
      "cell_type": "code",
      "source": [
        "df=df.merge(prods2,on=\"ProductID\",how=\"inner\")"
      ],
      "metadata": {
        "id": "ve5iNxaKnCCk"
      },
      "execution_count": 65,
      "outputs": []
    },
    {
      "cell_type": "code",
      "source": [
        "df.head()"
      ],
      "metadata": {
        "colab": {
          "base_uri": "https://localhost:8080/",
          "height": 206
        },
        "id": "TboJ1--pnX4B",
        "outputId": "8d654463-e1fd-42c6-f49a-1be80fec5a52"
      },
      "execution_count": 66,
      "outputs": [
        {
          "output_type": "execute_result",
          "data": {
            "text/plain": [
              "   SalesOrderDetailID  OrderQty  ProductID  UnitPrice  UnitPriceDiscount  \\\n",
              "0              110562         1        836    356.898                0.0   \n",
              "1              110741         4        836    356.898                0.0   \n",
              "2              111081         4        836    356.898                0.0   \n",
              "3              113089         3        836    356.898                0.0   \n",
              "4              110563         1        822    356.898                0.0   \n",
              "\n",
              "   LineTotal                               rowguid             ModifiedDate  \\\n",
              "0    356.898  e3a1994c-7a68-4ce8-96a3-77fdd3bbd730  2008-06-01 00:00:00.000   \n",
              "1   1427.592  0a9a4bef-bb06-49b2-942d-c8a2cd010a84  2008-06-01 00:00:00.000   \n",
              "2   1427.592  2cb6ffb5-8f2c-46e2-a363-d108facaa14d  2008-06-01 00:00:00.000   \n",
              "3   1070.694  aa3c697d-653d-4d79-b824-b92672fe8b9e  2008-06-01 00:00:00.000   \n",
              "4    356.898  5c77f557-fdb6-43ba-90b9-9a7aec55ca32  2008-06-01 00:00:00.000   \n",
              "\n",
              "   ProductCategoryID  \n",
              "0                 18  \n",
              "1                 18  \n",
              "2                 18  \n",
              "3                 18  \n",
              "4                 18  "
            ],
            "text/html": [
              "\n",
              "\n",
              "  <div id=\"df-4af367de-de34-4cfd-aab5-7b03420a6274\">\n",
              "    <div class=\"colab-df-container\">\n",
              "      <div>\n",
              "<style scoped>\n",
              "    .dataframe tbody tr th:only-of-type {\n",
              "        vertical-align: middle;\n",
              "    }\n",
              "\n",
              "    .dataframe tbody tr th {\n",
              "        vertical-align: top;\n",
              "    }\n",
              "\n",
              "    .dataframe thead th {\n",
              "        text-align: right;\n",
              "    }\n",
              "</style>\n",
              "<table border=\"1\" class=\"dataframe\">\n",
              "  <thead>\n",
              "    <tr style=\"text-align: right;\">\n",
              "      <th></th>\n",
              "      <th>SalesOrderDetailID</th>\n",
              "      <th>OrderQty</th>\n",
              "      <th>ProductID</th>\n",
              "      <th>UnitPrice</th>\n",
              "      <th>UnitPriceDiscount</th>\n",
              "      <th>LineTotal</th>\n",
              "      <th>rowguid</th>\n",
              "      <th>ModifiedDate</th>\n",
              "      <th>ProductCategoryID</th>\n",
              "    </tr>\n",
              "  </thead>\n",
              "  <tbody>\n",
              "    <tr>\n",
              "      <th>0</th>\n",
              "      <td>110562</td>\n",
              "      <td>1</td>\n",
              "      <td>836</td>\n",
              "      <td>356.898</td>\n",
              "      <td>0.0</td>\n",
              "      <td>356.898</td>\n",
              "      <td>e3a1994c-7a68-4ce8-96a3-77fdd3bbd730</td>\n",
              "      <td>2008-06-01 00:00:00.000</td>\n",
              "      <td>18</td>\n",
              "    </tr>\n",
              "    <tr>\n",
              "      <th>1</th>\n",
              "      <td>110741</td>\n",
              "      <td>4</td>\n",
              "      <td>836</td>\n",
              "      <td>356.898</td>\n",
              "      <td>0.0</td>\n",
              "      <td>1427.592</td>\n",
              "      <td>0a9a4bef-bb06-49b2-942d-c8a2cd010a84</td>\n",
              "      <td>2008-06-01 00:00:00.000</td>\n",
              "      <td>18</td>\n",
              "    </tr>\n",
              "    <tr>\n",
              "      <th>2</th>\n",
              "      <td>111081</td>\n",
              "      <td>4</td>\n",
              "      <td>836</td>\n",
              "      <td>356.898</td>\n",
              "      <td>0.0</td>\n",
              "      <td>1427.592</td>\n",
              "      <td>2cb6ffb5-8f2c-46e2-a363-d108facaa14d</td>\n",
              "      <td>2008-06-01 00:00:00.000</td>\n",
              "      <td>18</td>\n",
              "    </tr>\n",
              "    <tr>\n",
              "      <th>3</th>\n",
              "      <td>113089</td>\n",
              "      <td>3</td>\n",
              "      <td>836</td>\n",
              "      <td>356.898</td>\n",
              "      <td>0.0</td>\n",
              "      <td>1070.694</td>\n",
              "      <td>aa3c697d-653d-4d79-b824-b92672fe8b9e</td>\n",
              "      <td>2008-06-01 00:00:00.000</td>\n",
              "      <td>18</td>\n",
              "    </tr>\n",
              "    <tr>\n",
              "      <th>4</th>\n",
              "      <td>110563</td>\n",
              "      <td>1</td>\n",
              "      <td>822</td>\n",
              "      <td>356.898</td>\n",
              "      <td>0.0</td>\n",
              "      <td>356.898</td>\n",
              "      <td>5c77f557-fdb6-43ba-90b9-9a7aec55ca32</td>\n",
              "      <td>2008-06-01 00:00:00.000</td>\n",
              "      <td>18</td>\n",
              "    </tr>\n",
              "  </tbody>\n",
              "</table>\n",
              "</div>\n",
              "      <button class=\"colab-df-convert\" onclick=\"convertToInteractive('df-4af367de-de34-4cfd-aab5-7b03420a6274')\"\n",
              "              title=\"Convert this dataframe to an interactive table.\"\n",
              "              style=\"display:none;\">\n",
              "\n",
              "  <svg xmlns=\"http://www.w3.org/2000/svg\" height=\"24px\"viewBox=\"0 0 24 24\"\n",
              "       width=\"24px\">\n",
              "    <path d=\"M0 0h24v24H0V0z\" fill=\"none\"/>\n",
              "    <path d=\"M18.56 5.44l.94 2.06.94-2.06 2.06-.94-2.06-.94-.94-2.06-.94 2.06-2.06.94zm-11 1L8.5 8.5l.94-2.06 2.06-.94-2.06-.94L8.5 2.5l-.94 2.06-2.06.94zm10 10l.94 2.06.94-2.06 2.06-.94-2.06-.94-.94-2.06-.94 2.06-2.06.94z\"/><path d=\"M17.41 7.96l-1.37-1.37c-.4-.4-.92-.59-1.43-.59-.52 0-1.04.2-1.43.59L10.3 9.45l-7.72 7.72c-.78.78-.78 2.05 0 2.83L4 21.41c.39.39.9.59 1.41.59.51 0 1.02-.2 1.41-.59l7.78-7.78 2.81-2.81c.8-.78.8-2.07 0-2.86zM5.41 20L4 18.59l7.72-7.72 1.47 1.35L5.41 20z\"/>\n",
              "  </svg>\n",
              "      </button>\n",
              "\n",
              "\n",
              "\n",
              "    <div id=\"df-531de560-8be3-4716-922f-6f97db1852fe\">\n",
              "      <button class=\"colab-df-quickchart\" onclick=\"quickchart('df-531de560-8be3-4716-922f-6f97db1852fe')\"\n",
              "              title=\"Suggest charts.\"\n",
              "              style=\"display:none;\">\n",
              "\n",
              "<svg xmlns=\"http://www.w3.org/2000/svg\" height=\"24px\"viewBox=\"0 0 24 24\"\n",
              "     width=\"24px\">\n",
              "    <g>\n",
              "        <path d=\"M19 3H5c-1.1 0-2 .9-2 2v14c0 1.1.9 2 2 2h14c1.1 0 2-.9 2-2V5c0-1.1-.9-2-2-2zM9 17H7v-7h2v7zm4 0h-2V7h2v10zm4 0h-2v-4h2v4z\"/>\n",
              "    </g>\n",
              "</svg>\n",
              "      </button>\n",
              "    </div>\n",
              "\n",
              "<style>\n",
              "  .colab-df-quickchart {\n",
              "    background-color: #E8F0FE;\n",
              "    border: none;\n",
              "    border-radius: 50%;\n",
              "    cursor: pointer;\n",
              "    display: none;\n",
              "    fill: #1967D2;\n",
              "    height: 32px;\n",
              "    padding: 0 0 0 0;\n",
              "    width: 32px;\n",
              "  }\n",
              "\n",
              "  .colab-df-quickchart:hover {\n",
              "    background-color: #E2EBFA;\n",
              "    box-shadow: 0px 1px 2px rgba(60, 64, 67, 0.3), 0px 1px 3px 1px rgba(60, 64, 67, 0.15);\n",
              "    fill: #174EA6;\n",
              "  }\n",
              "\n",
              "  [theme=dark] .colab-df-quickchart {\n",
              "    background-color: #3B4455;\n",
              "    fill: #D2E3FC;\n",
              "  }\n",
              "\n",
              "  [theme=dark] .colab-df-quickchart:hover {\n",
              "    background-color: #434B5C;\n",
              "    box-shadow: 0px 1px 3px 1px rgba(0, 0, 0, 0.15);\n",
              "    filter: drop-shadow(0px 1px 2px rgba(0, 0, 0, 0.3));\n",
              "    fill: #FFFFFF;\n",
              "  }\n",
              "</style>\n",
              "\n",
              "    <script>\n",
              "      async function quickchart(key) {\n",
              "        const containerElement = document.querySelector('#' + key);\n",
              "        const charts = await google.colab.kernel.invokeFunction(\n",
              "            'suggestCharts', [key], {});\n",
              "      }\n",
              "    </script>\n",
              "\n",
              "      <script>\n",
              "\n",
              "function displayQuickchartButton(domScope) {\n",
              "  let quickchartButtonEl =\n",
              "    domScope.querySelector('#df-531de560-8be3-4716-922f-6f97db1852fe button.colab-df-quickchart');\n",
              "  quickchartButtonEl.style.display =\n",
              "    google.colab.kernel.accessAllowed ? 'block' : 'none';\n",
              "}\n",
              "\n",
              "        displayQuickchartButton(document);\n",
              "      </script>\n",
              "      <style>\n",
              "    .colab-df-container {\n",
              "      display:flex;\n",
              "      flex-wrap:wrap;\n",
              "      gap: 12px;\n",
              "    }\n",
              "\n",
              "    .colab-df-convert {\n",
              "      background-color: #E8F0FE;\n",
              "      border: none;\n",
              "      border-radius: 50%;\n",
              "      cursor: pointer;\n",
              "      display: none;\n",
              "      fill: #1967D2;\n",
              "      height: 32px;\n",
              "      padding: 0 0 0 0;\n",
              "      width: 32px;\n",
              "    }\n",
              "\n",
              "    .colab-df-convert:hover {\n",
              "      background-color: #E2EBFA;\n",
              "      box-shadow: 0px 1px 2px rgba(60, 64, 67, 0.3), 0px 1px 3px 1px rgba(60, 64, 67, 0.15);\n",
              "      fill: #174EA6;\n",
              "    }\n",
              "\n",
              "    [theme=dark] .colab-df-convert {\n",
              "      background-color: #3B4455;\n",
              "      fill: #D2E3FC;\n",
              "    }\n",
              "\n",
              "    [theme=dark] .colab-df-convert:hover {\n",
              "      background-color: #434B5C;\n",
              "      box-shadow: 0px 1px 3px 1px rgba(0, 0, 0, 0.15);\n",
              "      filter: drop-shadow(0px 1px 2px rgba(0, 0, 0, 0.3));\n",
              "      fill: #FFFFFF;\n",
              "    }\n",
              "  </style>\n",
              "\n",
              "      <script>\n",
              "        const buttonEl =\n",
              "          document.querySelector('#df-4af367de-de34-4cfd-aab5-7b03420a6274 button.colab-df-convert');\n",
              "        buttonEl.style.display =\n",
              "          google.colab.kernel.accessAllowed ? 'block' : 'none';\n",
              "\n",
              "        async function convertToInteractive(key) {\n",
              "          const element = document.querySelector('#df-4af367de-de34-4cfd-aab5-7b03420a6274');\n",
              "          const dataTable =\n",
              "            await google.colab.kernel.invokeFunction('convertToInteractive',\n",
              "                                                     [key], {});\n",
              "          if (!dataTable) return;\n",
              "\n",
              "          const docLinkHtml = 'Like what you see? Visit the ' +\n",
              "            '<a target=\"_blank\" href=https://colab.research.google.com/notebooks/data_table.ipynb>data table notebook</a>'\n",
              "            + ' to learn more about interactive tables.';\n",
              "          element.innerHTML = '';\n",
              "          dataTable['output_type'] = 'display_data';\n",
              "          await google.colab.output.renderOutput(dataTable, element);\n",
              "          const docLink = document.createElement('div');\n",
              "          docLink.innerHTML = docLinkHtml;\n",
              "          element.appendChild(docLink);\n",
              "        }\n",
              "      </script>\n",
              "    </div>\n",
              "  </div>\n"
            ]
          },
          "metadata": {},
          "execution_count": 66
        }
      ]
    },
    {
      "cell_type": "markdown",
      "source": [
        "# Moments of Distribution\n"
      ],
      "metadata": {
        "id": "QAmpx2x6JQIB"
      }
    },
    {
      "cell_type": "markdown",
      "source": [
        "## Location (Mean & Median) & Variability (Deviation and Variance)"
      ],
      "metadata": {
        "id": "p_CGVkYUJfCb"
      }
    },
    {
      "cell_type": "code",
      "source": [
        "df[\"OrderQty\"].describe()"
      ],
      "metadata": {
        "colab": {
          "base_uri": "https://localhost:8080/"
        },
        "id": "kLsLYK1RHd6t",
        "outputId": "78ebd49f-438b-4cc4-bf88-a9f0644c1dac"
      },
      "execution_count": null,
      "outputs": [
        {
          "output_type": "execute_result",
          "data": {
            "text/plain": [
              "count    542.000000\n",
              "mean       3.850554\n",
              "std        3.297592\n",
              "min        1.000000\n",
              "25%        2.000000\n",
              "50%        3.000000\n",
              "75%        5.000000\n",
              "max       25.000000\n",
              "Name: OrderQty, dtype: float64"
            ]
          },
          "metadata": {},
          "execution_count": 5
        }
      ]
    },
    {
      "cell_type": "markdown",
      "source": [
        "###Lets use the trimmed and weighted mean to possible see the presence of outliers"
      ],
      "metadata": {
        "id": "FBiUwCA_J0oM"
      }
    },
    {
      "cell_type": "code",
      "source": [
        "def get_means():\n",
        "  mean=df[\"OrderQty\"].mean()\n",
        "  weighted_mean=np.average(df[\"OrderQty\"], weights=df[\"UnitPrice\"])\n",
        "  trimmed_mean=trim_mean(df[\"OrderQty\"], 0.1)\n",
        "  return mean, weighted_mean, trimmed_mean\n",
        "\n",
        "mean, weighted_mean, trimmed_mean = get_means()\n",
        "print(f\"mean= {mean}, weighted_mean= {weighted_mean}, trimmed_mean = {trimmed_mean}\")"
      ],
      "metadata": {
        "colab": {
          "base_uri": "https://localhost:8080/"
        },
        "id": "ODTPNsvjG1Gr",
        "outputId": "e38f5ab6-26e5-4e74-c5fc-e8a1111fcc73"
      },
      "execution_count": null,
      "outputs": [
        {
          "output_type": "stream",
          "name": "stdout",
          "text": [
            "mean= 3.8505535055350553, weighted_mean= 3.4407195079524024, trimmed_mean = 3.2580645161290325\n"
          ]
        }
      ]
    },
    {
      "cell_type": "markdown",
      "source": [
        "As we can see, the mean does not vary greatly from the weighted and trimmed mean, Therefore there are no great outliers in the dataset, However, we can see from the 75% percentile that majority of the data lies below 5 yet the maximum value is 25!!. Smells fishy but we will use further visual methods like the boxplot and histogram to discover that."
      ],
      "metadata": {
        "id": "AR_SJReOJ-8a"
      }
    },
    {
      "cell_type": "markdown",
      "source": [
        "### Lets get the median and weighted median"
      ],
      "metadata": {
        "id": "rT11KwdpMAAH"
      }
    },
    {
      "cell_type": "code",
      "source": [
        "def get_medians():\n",
        "  median=df[\"OrderQty\"].median()\n",
        "  w_median=wquantiles.median(df[\"OrderQty\"],weights=df[\"UnitPrice\"])\n",
        "  return median, w_median\n",
        "median,w_median = get_medians()\n",
        "print(f\"median= {median}, weighted_median= {w_median}\")"
      ],
      "metadata": {
        "colab": {
          "base_uri": "https://localhost:8080/"
        },
        "id": "_g2odPVWJ-j_",
        "outputId": "9da05b52-d1d3-48b6-8ab7-c96158eac576"
      },
      "execution_count": null,
      "outputs": [
        {
          "output_type": "stream",
          "name": "stdout",
          "text": [
            "median= 3.0, weighted_median= 3.0\n"
          ]
        }
      ]
    },
    {
      "cell_type": "markdown",
      "source": [
        "### Lets check the deviation"
      ],
      "metadata": {
        "id": "0bSC0-voMepV"
      }
    },
    {
      "cell_type": "code",
      "source": [
        "from scipy.stats import median_abs_deviation\n",
        "def get_deviation():\n",
        "  std =df[\"OrderQty\"].std()\n",
        "  mad=median_abs_deviation(df[\"OrderQty\"])\n",
        "  return std,mad\n",
        "std,mad=get_deviation()\n",
        "print(f\"Standard Deviation= {std}, Median Absolute Deviation= {mad}\")\n",
        "print(f\"The Standard deviation is {std/mad} times the Mean absolute deviation\")"
      ],
      "metadata": {
        "colab": {
          "base_uri": "https://localhost:8080/"
        },
        "id": "08szQZDmMh_B",
        "outputId": "2599f377-b770-4565-d49b-ebee4a0e3b68"
      },
      "execution_count": null,
      "outputs": [
        {
          "output_type": "stream",
          "name": "stdout",
          "text": [
            "Standard Deviation= 3.297591916417841, Median Absolute Deviation= 2.0\n",
            "The Standard deviation is 1.6487959582089204 times the Mean absolute deviation\n"
          ]
        }
      ]
    },
    {
      "cell_type": "markdown",
      "source": [
        "Now, we are starting to see the possibility of outliers, The Median Absolute deviation unlike the Standard deviation is not influenced by extreme values. The latter actually is affected more because of the squared deviations. Lets explore more shall we!"
      ],
      "metadata": {
        "id": "yHTRG2BaNZ_n"
      }
    },
    {
      "cell_type": "code",
      "source": [
        "# Lets us Quantiles\n",
        "\n",
        "Q1 = df[\"OrderQty\"].quantile(0.25)\n",
        "Q3 = df[\"OrderQty\"].quantile(0.75)\n",
        "print(f\"Value at 25%: {Q1}, Value at 75%: {Q3}\")"
      ],
      "metadata": {
        "colab": {
          "base_uri": "https://localhost:8080/"
        },
        "id": "zQ-dIGaWNZq0",
        "outputId": "234e229d-0484-4d96-aa76-1367b8206a60"
      },
      "execution_count": null,
      "outputs": [
        {
          "output_type": "stream",
          "name": "stdout",
          "text": [
            "Value at 25%: 2.0, Value at 75%: 5.0\n"
          ]
        }
      ]
    },
    {
      "cell_type": "markdown",
      "source": [
        "Another possibility of outliers is shown above. If the value at the 75% of the data is 5, the the maximum value is 25, this means that there are some  extreme values"
      ],
      "metadata": {
        "id": "1rc-QmZGPR3s"
      }
    },
    {
      "cell_type": "code",
      "source": [],
      "metadata": {
        "id": "vqlyjl-cPRhc"
      },
      "execution_count": null,
      "outputs": []
    },
    {
      "cell_type": "code",
      "source": [],
      "metadata": {
        "id": "iYJGJsPTPPcG"
      },
      "execution_count": null,
      "outputs": []
    },
    {
      "cell_type": "markdown",
      "source": [
        "#Data distribution"
      ],
      "metadata": {
        "id": "LYVrxW5IXnTK"
      }
    },
    {
      "cell_type": "markdown",
      "source": [
        "## Lets explore the data distribution to confirm our suspicions"
      ],
      "metadata": {
        "id": "v11zbemRPlNX"
      }
    },
    {
      "cell_type": "markdown",
      "source": [
        "First, we will use a boxplot. The boxplot plots the oulier values as individual points on the graph while all the \"Normal\" point will be encosed in a box"
      ],
      "metadata": {
        "id": "7tJRjMvlQO8a"
      }
    },
    {
      "cell_type": "code",
      "source": [
        "# Box plot\n",
        "ax = (df[\"OrderQty\"]).plot.box()"
      ],
      "metadata": {
        "colab": {
          "base_uri": "https://localhost:8080/",
          "height": 430
        },
        "id": "eWk_NLrjPsVf",
        "outputId": "852e94c6-2fa5-4ab1-a569-009e1117c418"
      },
      "execution_count": null,
      "outputs": [
        {
          "output_type": "display_data",
          "data": {
            "text/plain": [
              "<Figure size 640x480 with 1 Axes>"
            ],
            "image/png": "[encoded data removed]"
          },
          "metadata": {}
        }
      ]
    },
    {
      "cell_type": "markdown",
      "source": [
        "The bottom of the box represents the 25% value, and the top represents the value at 75%. The middle line represents the median. The horizontal line at the top and bottom of the box are called whiskers. They typicall represent 1.5(IQR), where:\n",
        "            IQR=Q3-Q1"
      ],
      "metadata": {
        "id": "46jz5E-MQgwD"
      }
    },
    {
      "cell_type": "markdown",
      "source": [
        "Second, lets use the frequency table and histogram"
      ],
      "metadata": {
        "id": "v4ISl2ioRawn"
      }
    },
    {
      "cell_type": "code",
      "source": [
        "# Frequency table\n",
        "binnedOrderQty = pd.cut(df[\"OrderQty\"], 15)\n",
        "binnedOrderQty.value_counts()"
      ],
      "metadata": {
        "colab": {
          "base_uri": "https://localhost:8080/"
        },
        "id": "iPigVSlbRohn",
        "outputId": "b258c0d3-b553-44f9-a751-43cc8323a59b"
      },
      "execution_count": null,
      "outputs": [
        {
          "output_type": "execute_result",
          "data": {
            "text/plain": [
              "(0.976, 2.6]    231\n",
              "(2.6, 4.2]      151\n",
              "(5.8, 7.4]       54\n",
              "(4.2, 5.8]       46\n",
              "(7.4, 9.0]       24\n",
              "(9.0, 10.6]      12\n",
              "(10.6, 12.2]     10\n",
              "(13.8, 15.4]      5\n",
              "(12.2, 13.8]      3\n",
              "(15.4, 17.0]      3\n",
              "(21.8, 23.4]      2\n",
              "(23.4, 25.0]      1\n",
              "(17.0, 18.6]      0\n",
              "(18.6, 20.2]      0\n",
              "(20.2, 21.8]      0\n",
              "Name: OrderQty, dtype: int64"
            ]
          },
          "metadata": {},
          "execution_count": 11
        }
      ]
    },
    {
      "cell_type": "code",
      "source": [
        "# Histogram\n",
        "ax = (df[\"OrderQty\"]).plot.hist(figsize=(10,8))\n",
        "ax.set_xlabel(\"Orders\")"
      ],
      "metadata": {
        "colab": {
          "base_uri": "https://localhost:8080/",
          "height": 713
        },
        "id": "5HbGSXsbQDLT",
        "outputId": "0adc1c99-7c81-422a-c9a4-47f706468783"
      },
      "execution_count": null,
      "outputs": [
        {
          "output_type": "execute_result",
          "data": {
            "text/plain": [
              "Text(0.5, 0, 'Orders')"
            ]
          },
          "metadata": {},
          "execution_count": 12
        },
        {
          "output_type": "display_data",
          "data": {
            "text/plain": [
              "<Figure size 1000x800 with 1 Axes>"
            ],
            "image/png": "[encoded data removed]"
          },
          "metadata": {}
        }
      ]
    },
    {
      "cell_type": "markdown",
      "source": [
        "The histogram confirms our suspicion of the presence of outliers. The histogram/frequency plot groups the data into bins(intervals) in this case; we specify ten. We therefore take the (maximum value - minumum value)/10 to get the interval of each bin. The absence of values in the 8th and 9th bin and presence of values in the 10th one shows that there are extreme values that are affecting the mean, and standard deviation based on the mean."
      ],
      "metadata": {
        "id": "c-szeEpXTqqI"
      }
    },
    {
      "cell_type": "code",
      "source": [
        "# Density plot\n",
        "ax = df[\"OrderQty\"].plot.hist(density=True,xlim=[0,12], bins=range(1,12))\n",
        "df[\"OrderQty\"].plot.density(ax=ax)\n",
        "ax.set_xlabel(\"Orders\")"
      ],
      "metadata": {
        "colab": {
          "base_uri": "https://localhost:8080/",
          "height": 466
        },
        "id": "zcqnTpDAStqy",
        "outputId": "afb193a7-4f7f-42ea-b70a-22543ca14fed"
      },
      "execution_count": null,
      "outputs": [
        {
          "output_type": "execute_result",
          "data": {
            "text/plain": [
              "Text(0.5, 0, 'Orders')"
            ]
          },
          "metadata": {},
          "execution_count": 13
        },
        {
          "output_type": "display_data",
          "data": {
            "text/plain": [
              "<Figure size 640x480 with 1 Axes>"
            ],
            "image/png": "[encoded data removed]"
          },
          "metadata": {}
        }
      ]
    },
    {
      "cell_type": "markdown",
      "source": [
        "#Correlation"
      ],
      "metadata": {
        "id": "7wiUPOKnX7xV"
      }
    },
    {
      "cell_type": "markdown",
      "source": [
        "Lets explore the correlation between the variables"
      ],
      "metadata": {
        "id": "ISapZrLFX_g4"
      }
    },
    {
      "cell_type": "code",
      "source": [
        "#Heatmap\n",
        "sns.heatmap(df[df.columns[1:]].corr(numeric_only=True), vmin=-1,vmax=1)"
      ],
      "metadata": {
        "colab": {
          "base_uri": "https://localhost:8080/",
          "height": 561
        },
        "id": "692rzLYqYEEg",
        "outputId": "b44eaff8-72e8-437a-f5f6-34afdd3d26c3"
      },
      "execution_count": null,
      "outputs": [
        {
          "output_type": "execute_result",
          "data": {
            "text/plain": [
              "<Axes: >"
            ]
          },
          "metadata": {},
          "execution_count": 14
        },
        {
          "output_type": "display_data",
          "data": {
            "text/plain": [
              "<Figure size 640x480 with 2 Axes>"
            ],
            "image/png": "[encoded data removed]"
          },
          "metadata": {}
        }
      ]
    },
    {
      "cell_type": "code",
      "source": [
        "#Scatter Plot\n",
        "ax = df.plot.scatter(x='OrderQty', y= \"UnitPrice\", figsize=(10,8), xlabel=\"OrderQty\",ylabel=\"Price per unit\")\n",
        "ax.axhline(0,color=\"grey\",lw=1)\n",
        "ax.axvline(0,color=\"grey\",lw=1)"
      ],
      "metadata": {
        "colab": {
          "base_uri": "https://localhost:8080/",
          "height": 713
        },
        "id": "pAgtHPlBYZEH",
        "outputId": "97375d23-6d98-4345-ad6b-aa013b902237"
      },
      "execution_count": null,
      "outputs": [
        {
          "output_type": "execute_result",
          "data": {
            "text/plain": [
              "<matplotlib.lines.Line2D at 0x7a3435fd5780>"
            ]
          },
          "metadata": {},
          "execution_count": 15
        },
        {
          "output_type": "display_data",
          "data": {
            "text/plain": [
              "<Figure size 1000x800 with 1 Axes>"
            ],
            "image/png": "[encoded data removed]"
          },
          "metadata": {}
        }
      ]
    },
    {
      "cell_type": "markdown",
      "source": [
        "With more data, The scatterplot starts to become limiting as points start to overlap. Additionally, It doesnt really show the density/concentration of the points quite effectively. Lets try and show that using: Hexbin plots & Contour plots"
      ],
      "metadata": {
        "id": "Co4preMGbfMl"
      }
    },
    {
      "cell_type": "code",
      "source": [
        "#Hexbin\n",
        "df.plot.hexbin(x='OrderQty', y='UnitPrice', gridsize=20)"
      ],
      "metadata": {
        "id": "tV7qhc-7afoX",
        "colab": {
          "base_uri": "https://localhost:8080/",
          "height": 472
        },
        "outputId": "c10768aa-8e1b-468c-d357-933777ed2523"
      },
      "execution_count": null,
      "outputs": [
        {
          "output_type": "execute_result",
          "data": {
            "text/plain": [
              "<Axes: xlabel='OrderQty', ylabel='UnitPrice'>"
            ]
          },
          "metadata": {},
          "execution_count": 22
        },
        {
          "output_type": "display_data",
          "data": {
            "text/plain": [
              "<Figure size 640x480 with 2 Axes>"
            ],
            "image/png": "[encoded data removed]"
          },
          "metadata": {}
        }
      ]
    },
    {
      "cell_type": "markdown",
      "source": [
        "As seen above, more datapoints are concentrated around a unit price range of 0-150 and an order quantity of 1-5. This means the most popular items ordered in the dataset cost less than 200 and customers typically order less than 5 items.\n",
        "Howerver, there are a few high priced items ordered and indictated by the cluster around 1400."
      ],
      "metadata": {
        "id": "kri0gPwkdX-V"
      }
    },
    {
      "cell_type": "code",
      "source": [
        "# Contour plot\n",
        "ax=sns.kdeplot(df,x=\"OrderQty\",y=\"UnitPrice\",fill=True)"
      ],
      "metadata": {
        "colab": {
          "base_uri": "https://localhost:8080/",
          "height": 449
        },
        "id": "u_a4QFwNdDhc",
        "outputId": "9b9acbbf-2189-4d2a-bc83-514c5654abbc"
      },
      "execution_count": 32,
      "outputs": [
        {
          "output_type": "display_data",
          "data": {
            "text/plain": [
              "<Figure size 640x480 with 1 Axes>"
            ],
            "image/png": "[encoded data removed]"
          },
          "metadata": {}
        }
      ]
    },
    {
      "cell_type": "markdown",
      "source": [
        "Now we can see the two distinct clusters"
      ],
      "metadata": {
        "id": "xFpSOjsNkH7O"
      }
    },
    {
      "cell_type": "markdown",
      "source": [
        "Let's visualize the orders by their product category"
      ],
      "metadata": {
        "id": "LDaxxLyck_M8"
      }
    },
    {
      "cell_type": "code",
      "source": [
        "# Boxplot\n",
        "ax=df.boxplot(by='ProductCategoryID',column=\"OrderQty\",figsize=(10,8))\n",
        "ax.set_ylabel(\"Order by Quantity\")\n",
        "ax.set_xlabel(\"Product Category\")"
      ],
      "metadata": {
        "colab": {
          "base_uri": "https://localhost:8080/",
          "height": 761
        },
        "id": "6pei-y3qkczd",
        "outputId": "06d0c6a7-08d5-4ae0-e5da-1296eb74aa98"
      },
      "execution_count": 69,
      "outputs": [
        {
          "output_type": "execute_result",
          "data": {
            "text/plain": [
              "Text(0.5, 0, 'Product Category')"
            ]
          },
          "metadata": {},
          "execution_count": 69
        },
        {
          "output_type": "display_data",
          "data": {
            "text/plain": [
              "<Figure size 1000x800 with 1 Axes>"
            ],
            "image/png": "[encoded data removed]"
          },
          "metadata": {}
        }
      ]
    },
    {
      "cell_type": "markdown",
      "source": [
        "We can now visualize the distribution of the orders by their product category. Using a boxplot for this also shows the outliers by their product category. tHe only setback is the we cannot see the density of the purchases in the boxplot. The density in this case might answer which product category has the highest concentration of orders. To show this, let us use the violin plot."
      ],
      "metadata": {
        "id": "SB-pATOjuIcb"
      }
    },
    {
      "cell_type": "code",
      "source": [
        "# Violin plot\n",
        "ax= sns.violinplot(df,x=\"ProductCategoryID\",y=\"OrderQty\",inner=\"quartile\")"
      ],
      "metadata": {
        "colab": {
          "base_uri": "https://localhost:8080/",
          "height": 449
        },
        "id": "SDqPLlPglVWD",
        "outputId": "21d3b9c9-31ac-4111-dc96-b93f153b19db"
      },
      "execution_count": 76,
      "outputs": [
        {
          "output_type": "display_data",
          "data": {
            "text/plain": [
              "<Figure size 640x480 with 1 Axes>"
            ],
            "image/png": "[encoded data removed]"
          },
          "metadata": {}
        }
      ]
    },
    {
      "cell_type": "markdown",
      "source": [
        "Seem like lower product categories have a higher order density(Number of orders) than the higher categories. (Granted that categories are norminal so by higher, I do not mean ranking)"
      ],
      "metadata": {
        "id": "Tku9XBOWu9GS"
      }
    }
  ]
}