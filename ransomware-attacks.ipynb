{
 "cells": [
  {
   "cell_type": "code",
   "execution_count": 1,
   "id": "5d401f01",
   "metadata": {
    "_cell_guid": "b1076dfc-b9ad-4769-8c92-a6c4dae69d19",
    "_uuid": "8f2839f25d086af736a60e9eeb907d3b93b6e0e5",
    "execution": {
     "iopub.execute_input": "2023-08-04T10:52:21.050894Z",
     "iopub.status.busy": "2023-08-04T10:52:21.050446Z",
     "iopub.status.idle": "2023-08-04T10:52:21.066684Z",
     "shell.execute_reply": "2023-08-04T10:52:21.065619Z"
    },
    "papermill": {
     "duration": 0.025751,
     "end_time": "2023-08-04T10:52:21.068972",
     "exception": false,
     "start_time": "2023-08-04T10:52:21.043221",
     "status": "completed"
    },
    "tags": []
   },
   "outputs": [
    {
     "name": "stdout",
     "output_type": "stream",
     "text": [
      "/kaggle/input/ransomware-attacks/Ransomware Attacks - Ransomware Attacks.csv\n"
     ]
    }
   ],
   "source": [
    "# This Python 3 environment comes with many helpful analytics libraries installed\n",
    "# It is defined by the kaggle/python Docker image: https://github.com/kaggle/docker-python\n",
    "# For example, here's several helpful packages to load\n",
    "\n",
    "import numpy as np # linear algebra\n",
    "import pandas as pd # data processing, CSV file I/O (e.g. pd.read_csv)\n",
    "\n",
    "# Input data files are available in the read-only \"../input/\" directory\n",
    "# For example, running this (by clicking run or pressing Shift+Enter) will list all files under the input directory\n",
    "\n",
    "import os\n",
    "for dirname, _, filenames in os.walk('/kaggle/input'):\n",
    "    for filename in filenames:\n",
    "        print(os.path.join(dirname, filename))\n",
    "\n",
    "# You can write up to 20GB to the current directory (/kaggle/working/) that gets preserved as output when you create a version using \"Save & Run All\" \n",
    "# You can also write temporary files to /kaggle/temp/, but they won't be saved outside of the current session"
   ]
  },
  {
   "cell_type": "code",
   "execution_count": 2,
   "id": "0f816da2",
   "metadata": {
    "execution": {
     "iopub.execute_input": "2023-08-04T10:52:21.081787Z",
     "iopub.status.busy": "2023-08-04T10:52:21.081339Z",
     "iopub.status.idle": "2023-08-04T10:52:21.150785Z",
     "shell.execute_reply": "2023-08-04T10:52:21.149652Z"
    },
    "papermill": {
     "duration": 0.078748,
     "end_time": "2023-08-04T10:52:21.153126",
     "exception": false,
     "start_time": "2023-08-04T10:52:21.074378",
     "status": "completed"
    },
    "tags": []
   },
   "outputs": [
    {
     "data": {
      "text/html": [
       "<div>\n",
       "<style scoped>\n",
       "    .dataframe tbody tr th:only-of-type {\n",
       "        vertical-align: middle;\n",
       "    }\n",
       "\n",
       "    .dataframe tbody tr th {\n",
       "        vertical-align: top;\n",
       "    }\n",
       "\n",
       "    .dataframe thead th {\n",
       "        text-align: right;\n",
       "    }\n",
       "</style>\n",
       "<table border=\"1\" class=\"dataframe\">\n",
       "  <thead>\n",
       "    <tr style=\"text-align: right;\">\n",
       "      <th></th>\n",
       "      <th>Target</th>\n",
       "      <th>AKA</th>\n",
       "      <th>description</th>\n",
       "      <th>sector</th>\n",
       "      <th>organisation size 1,5,10,25,100,300</th>\n",
       "      <th>revenue $USD million</th>\n",
       "      <th>cost</th>\n",
       "      <th>ransom cost</th>\n",
       "      <th>data note</th>\n",
       "      <th>ransom paid</th>\n",
       "      <th>...</th>\n",
       "      <th>stock symbol</th>\n",
       "      <th>revenue as of</th>\n",
       "      <th>no of employees</th>\n",
       "      <th>Data Note</th>\n",
       "      <th>Source Name</th>\n",
       "      <th>URL</th>\n",
       "      <th>URL 2</th>\n",
       "      <th>URL 3</th>\n",
       "      <th>URL 4</th>\n",
       "      <th>URL 5</th>\n",
       "    </tr>\n",
       "    <tr>\n",
       "      <th>#ID</th>\n",
       "      <th></th>\n",
       "      <th></th>\n",
       "      <th></th>\n",
       "      <th></th>\n",
       "      <th></th>\n",
       "      <th></th>\n",
       "      <th></th>\n",
       "      <th></th>\n",
       "      <th></th>\n",
       "      <th></th>\n",
       "      <th></th>\n",
       "      <th></th>\n",
       "      <th></th>\n",
       "      <th></th>\n",
       "      <th></th>\n",
       "      <th></th>\n",
       "      <th></th>\n",
       "      <th></th>\n",
       "      <th></th>\n",
       "      <th></th>\n",
       "      <th></th>\n",
       "    </tr>\n",
       "  </thead>\n",
       "  <tbody>\n",
       "    <tr>\n",
       "      <th>359</th>\n",
       "      <td>Kaseya</td>\n",
       "      <td>NaN</td>\n",
       "      <td>NaN</td>\n",
       "      <td>tech</td>\n",
       "      <td>300</td>\n",
       "      <td>300.0</td>\n",
       "      <td>70</td>\n",
       "      <td>70.0</td>\n",
       "      <td>NaN</td>\n",
       "      <td>unknown</td>\n",
       "      <td>...</td>\n",
       "      <td>NaN</td>\n",
       "      <td>NaN</td>\n",
       "      <td>NaN</td>\n",
       "      <td>NaN</td>\n",
       "      <td>NaN</td>\n",
       "      <td>https://techcrunch.com/2021/07/05/kaseya-hack-...</td>\n",
       "      <td>NaN</td>\n",
       "      <td>NaN</td>\n",
       "      <td>NaN</td>\n",
       "      <td>NaN</td>\n",
       "    </tr>\n",
       "    <tr>\n",
       "      <th>358</th>\n",
       "      <td>Salvation Army</td>\n",
       "      <td>NaN</td>\n",
       "      <td>NaN</td>\n",
       "      <td>NaN</td>\n",
       "      <td>1</td>\n",
       "      <td>NaN</td>\n",
       "      <td>unknown</td>\n",
       "      <td>NaN</td>\n",
       "      <td>NaN</td>\n",
       "      <td>unknown</td>\n",
       "      <td>...</td>\n",
       "      <td>NaN</td>\n",
       "      <td>NaN</td>\n",
       "      <td>NaN</td>\n",
       "      <td>NaN</td>\n",
       "      <td>NaN</td>\n",
       "      <td>https://www.teiss.co.uk/salvation-army-ransomw...</td>\n",
       "      <td>NaN</td>\n",
       "      <td>NaN</td>\n",
       "      <td>NaN</td>\n",
       "      <td>NaN</td>\n",
       "    </tr>\n",
       "    <tr>\n",
       "      <th>357</th>\n",
       "      <td>Grupo Fleury</td>\n",
       "      <td>NaN</td>\n",
       "      <td>Brazil's largest diagnostic company</td>\n",
       "      <td>healthcare</td>\n",
       "      <td>10</td>\n",
       "      <td>686.0</td>\n",
       "      <td>unknown</td>\n",
       "      <td>NaN</td>\n",
       "      <td>NaN</td>\n",
       "      <td>unknown</td>\n",
       "      <td>...</td>\n",
       "      <td>NaN</td>\n",
       "      <td>NaN</td>\n",
       "      <td>NaN</td>\n",
       "      <td>NaN</td>\n",
       "      <td>NaN</td>\n",
       "      <td>https://www.bleepingcomputer.com/news/security...</td>\n",
       "      <td>NaN</td>\n",
       "      <td>NaN</td>\n",
       "      <td>NaN</td>\n",
       "      <td>NaN</td>\n",
       "    </tr>\n",
       "    <tr>\n",
       "      <th>356</th>\n",
       "      <td>City of Liege</td>\n",
       "      <td>NaN</td>\n",
       "      <td>NaN</td>\n",
       "      <td>government</td>\n",
       "      <td>1</td>\n",
       "      <td>NaN</td>\n",
       "      <td>unknown</td>\n",
       "      <td>NaN</td>\n",
       "      <td>NaN</td>\n",
       "      <td>unknown</td>\n",
       "      <td>...</td>\n",
       "      <td>NaN</td>\n",
       "      <td>NaN</td>\n",
       "      <td>NaN</td>\n",
       "      <td>NaN</td>\n",
       "      <td>NaN</td>\n",
       "      <td>https://securityaffairs.co/wordpress/119240/ma...</td>\n",
       "      <td>NaN</td>\n",
       "      <td>NaN</td>\n",
       "      <td>NaN</td>\n",
       "      <td>NaN</td>\n",
       "    </tr>\n",
       "    <tr>\n",
       "      <th>355</th>\n",
       "      <td>Lucky Star Casino</td>\n",
       "      <td>NaN</td>\n",
       "      <td>NaN</td>\n",
       "      <td>NaN</td>\n",
       "      <td>1</td>\n",
       "      <td>9.0</td>\n",
       "      <td>unknown</td>\n",
       "      <td>NaN</td>\n",
       "      <td>NaN</td>\n",
       "      <td>unknown</td>\n",
       "      <td>...</td>\n",
       "      <td>NaN</td>\n",
       "      <td>NaN</td>\n",
       "      <td>NaN</td>\n",
       "      <td>NaN</td>\n",
       "      <td>NaN</td>\n",
       "      <td>https://www.casino.org/news/lucky-star-casinos...</td>\n",
       "      <td>NaN</td>\n",
       "      <td>NaN</td>\n",
       "      <td>NaN</td>\n",
       "      <td>NaN</td>\n",
       "    </tr>\n",
       "  </tbody>\n",
       "</table>\n",
       "<p>5 rows × 28 columns</p>\n",
       "</div>"
      ],
      "text/plain": [
       "                Target  AKA                         description       sector  \\\n",
       "#ID                                                                            \n",
       "359             Kaseya  NaN                                  NaN        tech   \n",
       "358     Salvation Army  NaN                                  NaN         NaN   \n",
       "357       Grupo Fleury  NaN  Brazil's largest diagnostic company  healthcare   \n",
       "356      City of Liege  NaN                                  NaN  government   \n",
       "355  Lucky Star Casino  NaN                                  NaN         NaN   \n",
       "\n",
       "     organisation size 1,5,10,25,100,300   revenue $USD million      cost  \\\n",
       "#ID                                                                         \n",
       "359                                   300                  300.0       70   \n",
       "358                                     1                    NaN  unknown   \n",
       "357                                    10                  686.0  unknown   \n",
       "356                                     1                    NaN  unknown   \n",
       "355                                     1                    9.0  unknown   \n",
       "\n",
       "     ransom cost data note ransom paid  ...  stock symbol  revenue as of  \\\n",
       "#ID                                     ...                                \n",
       "359         70.0       NaN     unknown  ...           NaN            NaN   \n",
       "358          NaN       NaN     unknown  ...           NaN            NaN   \n",
       "357          NaN       NaN     unknown  ...           NaN            NaN   \n",
       "356          NaN       NaN     unknown  ...           NaN            NaN   \n",
       "355          NaN       NaN     unknown  ...           NaN            NaN   \n",
       "\n",
       "    no of employees Data Note  Source Name  \\\n",
       "#ID                                          \n",
       "359             NaN       NaN          NaN   \n",
       "358             NaN       NaN          NaN   \n",
       "357             NaN       NaN          NaN   \n",
       "356             NaN       NaN          NaN   \n",
       "355             NaN       NaN          NaN   \n",
       "\n",
       "                                                   URL URL 2 URL 3 URL 4 URL 5  \n",
       "#ID                                                                             \n",
       "359  https://techcrunch.com/2021/07/05/kaseya-hack-...   NaN   NaN   NaN   NaN  \n",
       "358  https://www.teiss.co.uk/salvation-army-ransomw...   NaN   NaN   NaN   NaN  \n",
       "357  https://www.bleepingcomputer.com/news/security...   NaN   NaN   NaN   NaN  \n",
       "356  https://securityaffairs.co/wordpress/119240/ma...   NaN   NaN   NaN   NaN  \n",
       "355  https://www.casino.org/news/lucky-star-casinos...   NaN   NaN   NaN   NaN  \n",
       "\n",
       "[5 rows x 28 columns]"
      ]
     },
     "execution_count": 2,
     "metadata": {},
     "output_type": "execute_result"
    }
   ],
   "source": [
    "df=pd.read_csv('/kaggle/input/ransomware-attacks/Ransomware Attacks - Ransomware Attacks.csv',index_col=\"#ID\")\n",
    "df.head(5)"
   ]
  },
  {
   "cell_type": "code",
   "execution_count": 3,
   "id": "2444841e",
   "metadata": {
    "execution": {
     "iopub.execute_input": "2023-08-04T10:52:21.166315Z",
     "iopub.status.busy": "2023-08-04T10:52:21.165916Z",
     "iopub.status.idle": "2023-08-04T10:52:21.190648Z",
     "shell.execute_reply": "2023-08-04T10:52:21.188980Z"
    },
    "papermill": {
     "duration": 0.034177,
     "end_time": "2023-08-04T10:52:21.193106",
     "exception": false,
     "start_time": "2023-08-04T10:52:21.158929",
     "status": "completed"
    },
    "tags": []
   },
   "outputs": [
    {
     "name": "stdout",
     "output_type": "stream",
     "text": [
      "<class 'pandas.core.frame.DataFrame'>\n",
      "Int64Index: 358 entries, 359 to 1\n",
      "Data columns (total 28 columns):\n",
      " #   Column                                Non-Null Count  Dtype  \n",
      "---  ------                                --------------  -----  \n",
      " 0   Target                                358 non-null    object \n",
      " 1   AKA                                   67 non-null     object \n",
      " 2   description                           184 non-null    object \n",
      " 3   sector                                351 non-null    object \n",
      " 4   organisation size 1,5,10,25,100,300   358 non-null    int64  \n",
      " 5   revenue $USD million                  333 non-null    float64\n",
      " 6   cost                                  358 non-null    object \n",
      " 7   ransom cost                           113 non-null    float64\n",
      " 8   data note                             26 non-null     object \n",
      " 9   ransom paid                           358 non-null    object \n",
      " 10  YEAR code                             358 non-null    int64  \n",
      " 11  YEAR                                  358 non-null    int64  \n",
      " 12  month                                 353 non-null    object \n",
      " 13  location                              358 non-null    object \n",
      " 14  interesting story (edited)            0 non-null      float64\n",
      " 15  interesting story (long)              38 non-null     object \n",
      " 16  interesting story?                    31 non-null     object \n",
      " 17  Ransomware                            356 non-null    object \n",
      " 18  stock symbol                          81 non-null     object \n",
      " 19  revenue as of                         52 non-null     object \n",
      " 20  no of employees                       41 non-null     object \n",
      " 21  Data Note                             59 non-null     object \n",
      " 22  Source Name                           0 non-null      float64\n",
      " 23  URL                                   356 non-null    object \n",
      " 24  URL 2                                 128 non-null    object \n",
      " 25  URL 3                                 24 non-null     object \n",
      " 26  URL 4                                 2 non-null      object \n",
      " 27  URL 5                                 1 non-null      object \n",
      "dtypes: float64(4), int64(3), object(21)\n",
      "memory usage: 81.1+ KB\n"
     ]
    }
   ],
   "source": [
    "df.info()"
   ]
  },
  {
   "cell_type": "code",
   "execution_count": 4,
   "id": "4d017753",
   "metadata": {
    "execution": {
     "iopub.execute_input": "2023-08-04T10:52:21.207294Z",
     "iopub.status.busy": "2023-08-04T10:52:21.206643Z",
     "iopub.status.idle": "2023-08-04T10:52:21.214188Z",
     "shell.execute_reply": "2023-08-04T10:52:21.213077Z"
    },
    "papermill": {
     "duration": 0.017317,
     "end_time": "2023-08-04T10:52:21.216459",
     "exception": false,
     "start_time": "2023-08-04T10:52:21.199142",
     "status": "completed"
    },
    "tags": []
   },
   "outputs": [
    {
     "data": {
      "text/plain": [
       "Index(['Target', 'AKA', 'description ', 'sector',\n",
       "       'organisation size 1,5,10,25,100,300 ', 'revenue $USD million ', 'cost',\n",
       "       'ransom cost', 'data note', 'ransom paid', 'YEAR code', 'YEAR', 'month',\n",
       "       'location', 'interesting story (edited)', 'interesting story (long)',\n",
       "       'interesting story?', 'Ransomware', 'stock symbol', 'revenue as of',\n",
       "       'no of employees', 'Data Note', 'Source Name', 'URL', 'URL 2', 'URL 3',\n",
       "       'URL 4', 'URL 5'],\n",
       "      dtype='object')"
      ]
     },
     "execution_count": 4,
     "metadata": {},
     "output_type": "execute_result"
    }
   ],
   "source": [
    "df.columns"
   ]
  },
  {
   "cell_type": "code",
   "execution_count": 5,
   "id": "ba7b9bd6",
   "metadata": {
    "execution": {
     "iopub.execute_input": "2023-08-04T10:52:21.230509Z",
     "iopub.status.busy": "2023-08-04T10:52:21.230111Z",
     "iopub.status.idle": "2023-08-04T10:52:21.239500Z",
     "shell.execute_reply": "2023-08-04T10:52:21.238053Z"
    },
    "papermill": {
     "duration": 0.019264,
     "end_time": "2023-08-04T10:52:21.241719",
     "exception": false,
     "start_time": "2023-08-04T10:52:21.222455",
     "status": "completed"
    },
    "tags": []
   },
   "outputs": [
    {
     "name": "stdout",
     "output_type": "stream",
     "text": [
      "mean: 32.95446524778761 Median: 4.9\n"
     ]
    }
   ],
   "source": [
    "mean=df['ransom cost'].mean()\n",
    "median=df['ransom cost'].median()\n",
    "print(f\"mean: {mean} Median: {median}\")"
   ]
  },
  {
   "cell_type": "code",
   "execution_count": 6,
   "id": "6ecd2d54",
   "metadata": {
    "execution": {
     "iopub.execute_input": "2023-08-04T10:52:21.256260Z",
     "iopub.status.busy": "2023-08-04T10:52:21.255284Z",
     "iopub.status.idle": "2023-08-04T10:52:21.275679Z",
     "shell.execute_reply": "2023-08-04T10:52:21.273383Z"
    },
    "papermill": {
     "duration": 0.030266,
     "end_time": "2023-08-04T10:52:21.278249",
     "exception": false,
     "start_time": "2023-08-04T10:52:21.247983",
     "status": "completed"
    },
    "tags": []
   },
   "outputs": [
    {
     "data": {
      "text/html": [
       "<div>\n",
       "<style scoped>\n",
       "    .dataframe tbody tr th:only-of-type {\n",
       "        vertical-align: middle;\n",
       "    }\n",
       "\n",
       "    .dataframe tbody tr th {\n",
       "        vertical-align: top;\n",
       "    }\n",
       "\n",
       "    .dataframe thead th {\n",
       "        text-align: right;\n",
       "    }\n",
       "</style>\n",
       "<table border=\"1\" class=\"dataframe\">\n",
       "  <thead>\n",
       "    <tr style=\"text-align: right;\">\n",
       "      <th></th>\n",
       "      <th>Target</th>\n",
       "      <th>sector</th>\n",
       "      <th>organisation size 1,5,10,25,100,300</th>\n",
       "      <th>revenue $USD million</th>\n",
       "      <th>cost</th>\n",
       "      <th>ransom cost</th>\n",
       "      <th>ransom paid</th>\n",
       "      <th>YEAR code</th>\n",
       "      <th>YEAR</th>\n",
       "      <th>month</th>\n",
       "      <th>location</th>\n",
       "      <th>Ransomware</th>\n",
       "      <th>URL</th>\n",
       "    </tr>\n",
       "    <tr>\n",
       "      <th>#ID</th>\n",
       "      <th></th>\n",
       "      <th></th>\n",
       "      <th></th>\n",
       "      <th></th>\n",
       "      <th></th>\n",
       "      <th></th>\n",
       "      <th></th>\n",
       "      <th></th>\n",
       "      <th></th>\n",
       "      <th></th>\n",
       "      <th></th>\n",
       "      <th></th>\n",
       "      <th></th>\n",
       "    </tr>\n",
       "  </thead>\n",
       "  <tbody>\n",
       "    <tr>\n",
       "      <th>359</th>\n",
       "      <td>Kaseya</td>\n",
       "      <td>tech</td>\n",
       "      <td>300</td>\n",
       "      <td>300.0</td>\n",
       "      <td>70</td>\n",
       "      <td>70.0</td>\n",
       "      <td>unknown</td>\n",
       "      <td>1</td>\n",
       "      <td>2021</td>\n",
       "      <td>JUL</td>\n",
       "      <td>USA</td>\n",
       "      <td>REvil</td>\n",
       "      <td>https://techcrunch.com/2021/07/05/kaseya-hack-...</td>\n",
       "    </tr>\n",
       "    <tr>\n",
       "      <th>358</th>\n",
       "      <td>Salvation Army</td>\n",
       "      <td>NaN</td>\n",
       "      <td>1</td>\n",
       "      <td>NaN</td>\n",
       "      <td>unknown</td>\n",
       "      <td>NaN</td>\n",
       "      <td>unknown</td>\n",
       "      <td>1</td>\n",
       "      <td>2021</td>\n",
       "      <td>JUN</td>\n",
       "      <td>UK</td>\n",
       "      <td>unknown</td>\n",
       "      <td>https://www.teiss.co.uk/salvation-army-ransomw...</td>\n",
       "    </tr>\n",
       "    <tr>\n",
       "      <th>357</th>\n",
       "      <td>Grupo Fleury</td>\n",
       "      <td>healthcare</td>\n",
       "      <td>10</td>\n",
       "      <td>686.0</td>\n",
       "      <td>unknown</td>\n",
       "      <td>NaN</td>\n",
       "      <td>unknown</td>\n",
       "      <td>1</td>\n",
       "      <td>2021</td>\n",
       "      <td>JUN</td>\n",
       "      <td>Brazil</td>\n",
       "      <td>REvil</td>\n",
       "      <td>https://www.bleepingcomputer.com/news/security...</td>\n",
       "    </tr>\n",
       "    <tr>\n",
       "      <th>356</th>\n",
       "      <td>City of Liege</td>\n",
       "      <td>government</td>\n",
       "      <td>1</td>\n",
       "      <td>NaN</td>\n",
       "      <td>unknown</td>\n",
       "      <td>NaN</td>\n",
       "      <td>unknown</td>\n",
       "      <td>1</td>\n",
       "      <td>2021</td>\n",
       "      <td>JUN</td>\n",
       "      <td>Belgium</td>\n",
       "      <td>Ryuk</td>\n",
       "      <td>https://securityaffairs.co/wordpress/119240/ma...</td>\n",
       "    </tr>\n",
       "    <tr>\n",
       "      <th>355</th>\n",
       "      <td>Lucky Star Casino</td>\n",
       "      <td>NaN</td>\n",
       "      <td>1</td>\n",
       "      <td>9.0</td>\n",
       "      <td>unknown</td>\n",
       "      <td>NaN</td>\n",
       "      <td>unknown</td>\n",
       "      <td>1</td>\n",
       "      <td>2021</td>\n",
       "      <td>JUN</td>\n",
       "      <td>USA</td>\n",
       "      <td>unknown</td>\n",
       "      <td>https://www.casino.org/news/lucky-star-casinos...</td>\n",
       "    </tr>\n",
       "  </tbody>\n",
       "</table>\n",
       "</div>"
      ],
      "text/plain": [
       "                Target      sector  organisation size 1,5,10,25,100,300   \\\n",
       "#ID                                                                        \n",
       "359             Kaseya        tech                                   300   \n",
       "358     Salvation Army         NaN                                     1   \n",
       "357       Grupo Fleury  healthcare                                    10   \n",
       "356      City of Liege  government                                     1   \n",
       "355  Lucky Star Casino         NaN                                     1   \n",
       "\n",
       "     revenue $USD million      cost  ransom cost ransom paid  YEAR code  YEAR  \\\n",
       "#ID                                                                             \n",
       "359                  300.0       70         70.0     unknown          1  2021   \n",
       "358                    NaN  unknown          NaN     unknown          1  2021   \n",
       "357                  686.0  unknown          NaN     unknown          1  2021   \n",
       "356                    NaN  unknown          NaN     unknown          1  2021   \n",
       "355                    9.0  unknown          NaN     unknown          1  2021   \n",
       "\n",
       "    month location Ransomware  \\\n",
       "#ID                             \n",
       "359   JUL      USA      REvil   \n",
       "358   JUN       UK    unknown   \n",
       "357   JUN   Brazil      REvil   \n",
       "356   JUN  Belgium       Ryuk   \n",
       "355   JUN      USA    unknown   \n",
       "\n",
       "                                                   URL  \n",
       "#ID                                                     \n",
       "359  https://techcrunch.com/2021/07/05/kaseya-hack-...  \n",
       "358  https://www.teiss.co.uk/salvation-army-ransomw...  \n",
       "357  https://www.bleepingcomputer.com/news/security...  \n",
       "356  https://securityaffairs.co/wordpress/119240/ma...  \n",
       "355  https://www.casino.org/news/lucky-star-casinos...  "
      ]
     },
     "execution_count": 6,
     "metadata": {},
     "output_type": "execute_result"
    }
   ],
   "source": [
    "df.drop(columns=[\"AKA\",'description ','data note','stock symbol','no of employees','Data Note', 'Source Name','interesting story (edited)', 'interesting story (long)',\n",
    "                    'interesting story?','revenue as of','Source Name','URL 2','URL 3',\"URL 4\",\"URL 5\"],inplace=True)\n",
    "df.head(5)"
   ]
  },
  {
   "cell_type": "code",
   "execution_count": 7,
   "id": "d0e33333",
   "metadata": {
    "execution": {
     "iopub.execute_input": "2023-08-04T10:52:21.293726Z",
     "iopub.status.busy": "2023-08-04T10:52:21.292904Z",
     "iopub.status.idle": "2023-08-04T10:52:21.304861Z",
     "shell.execute_reply": "2023-08-04T10:52:21.303146Z"
    },
    "papermill": {
     "duration": 0.022774,
     "end_time": "2023-08-04T10:52:21.307543",
     "exception": false,
     "start_time": "2023-08-04T10:52:21.284769",
     "status": "completed"
    },
    "tags": []
   },
   "outputs": [
    {
     "data": {
      "text/plain": [
       "count    113.000000\n",
       "mean      32.954465\n",
       "std       87.693550\n",
       "min        0.002500\n",
       "25%        0.457000\n",
       "50%        4.900000\n",
       "75%       24.000000\n",
       "max      670.000000\n",
       "Name: ransom cost, dtype: float64"
      ]
     },
     "execution_count": 7,
     "metadata": {},
     "output_type": "execute_result"
    }
   ],
   "source": [
    "df['ransom cost'].describe()"
   ]
  },
  {
   "cell_type": "code",
   "execution_count": 8,
   "id": "7adc7870",
   "metadata": {
    "execution": {
     "iopub.execute_input": "2023-08-04T10:52:21.326536Z",
     "iopub.status.busy": "2023-08-04T10:52:21.326127Z",
     "iopub.status.idle": "2023-08-04T10:52:21.592150Z",
     "shell.execute_reply": "2023-08-04T10:52:21.590991Z"
    },
    "papermill": {
     "duration": 0.278308,
     "end_time": "2023-08-04T10:52:21.594605",
     "exception": false,
     "start_time": "2023-08-04T10:52:21.316297",
     "status": "completed"
    },
    "tags": []
   },
   "outputs": [
    {
     "data": {
      "text/plain": [
       "<Axes: >"
      ]
     },
     "execution_count": 8,
     "metadata": {},
     "output_type": "execute_result"
    },
    {
     "data": {
      "image/png": "[encoded data removed]",
      "text/plain": [
       "<Figure size 640x480 with 1 Axes>"
      ]
     },
     "metadata": {},
     "output_type": "display_data"
    }
   ],
   "source": [
    "df['ransom cost'].plot.box()"
   ]
  },
  {
   "cell_type": "code",
   "execution_count": 9,
   "id": "de66bb88",
   "metadata": {
    "execution": {
     "iopub.execute_input": "2023-08-04T10:52:21.611123Z",
     "iopub.status.busy": "2023-08-04T10:52:21.609919Z",
     "iopub.status.idle": "2023-08-04T10:52:22.651847Z",
     "shell.execute_reply": "2023-08-04T10:52:22.650474Z"
    },
    "papermill": {
     "duration": 1.053083,
     "end_time": "2023-08-04T10:52:22.654307",
     "exception": false,
     "start_time": "2023-08-04T10:52:21.601224",
     "status": "completed"
    },
    "tags": []
   },
   "outputs": [
    {
     "name": "stderr",
     "output_type": "stream",
     "text": [
      "/opt/conda/lib/python3.10/site-packages/scipy/__init__.py:146: UserWarning: A NumPy version >=1.16.5 and <1.23.0 is required for this version of SciPy (detected version 1.23.5\n",
      "  warnings.warn(f\"A NumPy version >={np_minversion} and <{np_maxversion}\"\n"
     ]
    },
    {
     "name": "stdout",
     "output_type": "stream",
     "text": [
      "mean: 9.051222222222222 Trimmed Mean: 7.722499999999999\n"
     ]
    }
   ],
   "source": [
    "from scipy.stats import trim_mean\n",
    "lower=(df['ransom cost'].quantile(0.25))*1.5\n",
    "upper=(df['ransom cost'].quantile(0.75))*1.5\n",
    "\n",
    "mean=df[(df['ransom cost']>lower) & (df['ransom cost']<upper)][\"ransom cost\"].mean()\n",
    "trimmed_mean=trim_mean(df[(df['ransom cost']>lower) & (df['ransom cost']<upper)][\"ransom cost\"],0.1)\n",
    "print(f\"mean: {mean} Trimmed Mean: {trimmed_mean}\")"
   ]
  },
  {
   "cell_type": "code",
   "execution_count": 10,
   "id": "73e7eb1c",
   "metadata": {
    "execution": {
     "iopub.execute_input": "2023-08-04T10:52:22.670933Z",
     "iopub.status.busy": "2023-08-04T10:52:22.669708Z",
     "iopub.status.idle": "2023-08-04T10:52:22.679011Z",
     "shell.execute_reply": "2023-08-04T10:52:22.677881Z"
    },
    "papermill": {
     "duration": 0.020058,
     "end_time": "2023-08-04T10:52:22.681377",
     "exception": false,
     "start_time": "2023-08-04T10:52:22.661319",
     "status": "completed"
    },
    "tags": []
   },
   "outputs": [
    {
     "data": {
      "text/plain": [
       "245"
      ]
     },
     "execution_count": 10,
     "metadata": {},
     "output_type": "execute_result"
    }
   ],
   "source": [
    "df['ransom cost'].isnull().sum()"
   ]
  },
  {
   "cell_type": "code",
   "execution_count": 11,
   "id": "5eef1ceb",
   "metadata": {
    "execution": {
     "iopub.execute_input": "2023-08-04T10:52:22.697839Z",
     "iopub.status.busy": "2023-08-04T10:52:22.697018Z",
     "iopub.status.idle": "2023-08-04T10:52:22.702934Z",
     "shell.execute_reply": "2023-08-04T10:52:22.701841Z"
    },
    "papermill": {
     "duration": 0.017022,
     "end_time": "2023-08-04T10:52:22.705422",
     "exception": false,
     "start_time": "2023-08-04T10:52:22.688400",
     "status": "completed"
    },
    "tags": []
   },
   "outputs": [],
   "source": [
    "df['ransom cost'].fillna(mean,inplace=True)"
   ]
  },
  {
   "cell_type": "code",
   "execution_count": 12,
   "id": "a08e28a8",
   "metadata": {
    "execution": {
     "iopub.execute_input": "2023-08-04T10:52:22.721313Z",
     "iopub.status.busy": "2023-08-04T10:52:22.720941Z",
     "iopub.status.idle": "2023-08-04T10:52:22.727885Z",
     "shell.execute_reply": "2023-08-04T10:52:22.726632Z"
    },
    "papermill": {
     "duration": 0.017655,
     "end_time": "2023-08-04T10:52:22.730153",
     "exception": false,
     "start_time": "2023-08-04T10:52:22.712498",
     "status": "completed"
    },
    "tags": []
   },
   "outputs": [
    {
     "data": {
      "text/plain": [
       "0"
      ]
     },
     "execution_count": 12,
     "metadata": {},
     "output_type": "execute_result"
    }
   ],
   "source": [
    "df['ransom cost'].isnull().sum()"
   ]
  },
  {
   "cell_type": "code",
   "execution_count": 13,
   "id": "b8f91146",
   "metadata": {
    "execution": {
     "iopub.execute_input": "2023-08-04T10:52:22.746226Z",
     "iopub.status.busy": "2023-08-04T10:52:22.745842Z",
     "iopub.status.idle": "2023-08-04T10:52:22.759785Z",
     "shell.execute_reply": "2023-08-04T10:52:22.758219Z"
    },
    "papermill": {
     "duration": 0.024734,
     "end_time": "2023-08-04T10:52:22.761979",
     "exception": false,
     "start_time": "2023-08-04T10:52:22.737245",
     "status": "completed"
    },
    "tags": []
   },
   "outputs": [
    {
     "name": "stdout",
     "output_type": "stream",
     "text": [
      "<class 'pandas.core.frame.DataFrame'>\n",
      "Int64Index: 358 entries, 359 to 1\n",
      "Data columns (total 13 columns):\n",
      " #   Column                                Non-Null Count  Dtype  \n",
      "---  ------                                --------------  -----  \n",
      " 0   Target                                358 non-null    object \n",
      " 1   sector                                351 non-null    object \n",
      " 2   organisation size 1,5,10,25,100,300   358 non-null    int64  \n",
      " 3   revenue $USD million                  333 non-null    float64\n",
      " 4   cost                                  358 non-null    object \n",
      " 5   ransom cost                           358 non-null    float64\n",
      " 6   ransom paid                           358 non-null    object \n",
      " 7   YEAR code                             358 non-null    int64  \n",
      " 8   YEAR                                  358 non-null    int64  \n",
      " 9   month                                 353 non-null    object \n",
      " 10  location                              358 non-null    object \n",
      " 11  Ransomware                            356 non-null    object \n",
      " 12  URL                                   356 non-null    object \n",
      "dtypes: float64(2), int64(3), object(8)\n",
      "memory usage: 39.2+ KB\n"
     ]
    }
   ],
   "source": [
    "df.info()"
   ]
  },
  {
   "cell_type": "code",
   "execution_count": 14,
   "id": "f376e090",
   "metadata": {
    "execution": {
     "iopub.execute_input": "2023-08-04T10:52:22.778762Z",
     "iopub.status.busy": "2023-08-04T10:52:22.778095Z",
     "iopub.status.idle": "2023-08-04T10:52:22.784802Z",
     "shell.execute_reply": "2023-08-04T10:52:22.783857Z"
    },
    "papermill": {
     "duration": 0.017709,
     "end_time": "2023-08-04T10:52:22.787199",
     "exception": false,
     "start_time": "2023-08-04T10:52:22.769490",
     "status": "completed"
    },
    "tags": []
   },
   "outputs": [],
   "source": [
    "df.dropna(inplace=True)"
   ]
  },
  {
   "cell_type": "code",
   "execution_count": 15,
   "id": "47c30489",
   "metadata": {
    "execution": {
     "iopub.execute_input": "2023-08-04T10:52:22.803357Z",
     "iopub.status.busy": "2023-08-04T10:52:22.802996Z",
     "iopub.status.idle": "2023-08-04T10:52:22.815853Z",
     "shell.execute_reply": "2023-08-04T10:52:22.814619Z"
    },
    "papermill": {
     "duration": 0.023861,
     "end_time": "2023-08-04T10:52:22.818292",
     "exception": false,
     "start_time": "2023-08-04T10:52:22.794431",
     "status": "completed"
    },
    "tags": []
   },
   "outputs": [
    {
     "name": "stdout",
     "output_type": "stream",
     "text": [
      "<class 'pandas.core.frame.DataFrame'>\n",
      "Int64Index: 321 entries, 359 to 3\n",
      "Data columns (total 13 columns):\n",
      " #   Column                                Non-Null Count  Dtype  \n",
      "---  ------                                --------------  -----  \n",
      " 0   Target                                321 non-null    object \n",
      " 1   sector                                321 non-null    object \n",
      " 2   organisation size 1,5,10,25,100,300   321 non-null    int64  \n",
      " 3   revenue $USD million                  321 non-null    float64\n",
      " 4   cost                                  321 non-null    object \n",
      " 5   ransom cost                           321 non-null    float64\n",
      " 6   ransom paid                           321 non-null    object \n",
      " 7   YEAR code                             321 non-null    int64  \n",
      " 8   YEAR                                  321 non-null    int64  \n",
      " 9   month                                 321 non-null    object \n",
      " 10  location                              321 non-null    object \n",
      " 11  Ransomware                            321 non-null    object \n",
      " 12  URL                                   321 non-null    object \n",
      "dtypes: float64(2), int64(3), object(8)\n",
      "memory usage: 35.1+ KB\n"
     ]
    }
   ],
   "source": [
    "df.info()"
   ]
  },
  {
   "cell_type": "code",
   "execution_count": 16,
   "id": "53074773",
   "metadata": {
    "execution": {
     "iopub.execute_input": "2023-08-04T10:52:22.835231Z",
     "iopub.status.busy": "2023-08-04T10:52:22.834349Z",
     "iopub.status.idle": "2023-08-04T10:52:22.844224Z",
     "shell.execute_reply": "2023-08-04T10:52:22.843122Z"
    },
    "papermill": {
     "duration": 0.020765,
     "end_time": "2023-08-04T10:52:22.846497",
     "exception": false,
     "start_time": "2023-08-04T10:52:22.825732",
     "status": "completed"
    },
    "tags": []
   },
   "outputs": [
    {
     "data": {
      "text/plain": [
       "Target                                  0\n",
       "sector                                  0\n",
       "organisation size 1,5,10,25,100,300     0\n",
       "revenue $USD million                    0\n",
       "cost                                    0\n",
       "ransom cost                             0\n",
       "ransom paid                             0\n",
       "YEAR code                               0\n",
       "YEAR                                    0\n",
       "month                                   0\n",
       "location                                0\n",
       "Ransomware                              0\n",
       "URL                                     0\n",
       "dtype: int64"
      ]
     },
     "execution_count": 16,
     "metadata": {},
     "output_type": "execute_result"
    }
   ],
   "source": [
    "df.isnull().sum()"
   ]
  },
  {
   "cell_type": "code",
   "execution_count": 17,
   "id": "23a18957",
   "metadata": {
    "execution": {
     "iopub.execute_input": "2023-08-04T10:52:22.863424Z",
     "iopub.status.busy": "2023-08-04T10:52:22.862965Z",
     "iopub.status.idle": "2023-08-04T10:52:22.880312Z",
     "shell.execute_reply": "2023-08-04T10:52:22.879176Z"
    },
    "papermill": {
     "duration": 0.028627,
     "end_time": "2023-08-04T10:52:22.882628",
     "exception": false,
     "start_time": "2023-08-04T10:52:22.854001",
     "status": "completed"
    },
    "tags": []
   },
   "outputs": [
    {
     "data": {
      "text/html": [
       "<div>\n",
       "<style scoped>\n",
       "    .dataframe tbody tr th:only-of-type {\n",
       "        vertical-align: middle;\n",
       "    }\n",
       "\n",
       "    .dataframe tbody tr th {\n",
       "        vertical-align: top;\n",
       "    }\n",
       "\n",
       "    .dataframe thead th {\n",
       "        text-align: right;\n",
       "    }\n",
       "</style>\n",
       "<table border=\"1\" class=\"dataframe\">\n",
       "  <thead>\n",
       "    <tr style=\"text-align: right;\">\n",
       "      <th></th>\n",
       "      <th>Target</th>\n",
       "      <th>sector</th>\n",
       "      <th>organisation size 1,5,10,25,100,300</th>\n",
       "      <th>revenue $USD million</th>\n",
       "      <th>cost</th>\n",
       "      <th>ransom cost</th>\n",
       "      <th>ransom paid</th>\n",
       "      <th>YEAR code</th>\n",
       "      <th>YEAR</th>\n",
       "      <th>month</th>\n",
       "      <th>location</th>\n",
       "      <th>Ransomware</th>\n",
       "      <th>URL</th>\n",
       "    </tr>\n",
       "    <tr>\n",
       "      <th>#ID</th>\n",
       "      <th></th>\n",
       "      <th></th>\n",
       "      <th></th>\n",
       "      <th></th>\n",
       "      <th></th>\n",
       "      <th></th>\n",
       "      <th></th>\n",
       "      <th></th>\n",
       "      <th></th>\n",
       "      <th></th>\n",
       "      <th></th>\n",
       "      <th></th>\n",
       "      <th></th>\n",
       "    </tr>\n",
       "  </thead>\n",
       "  <tbody>\n",
       "    <tr>\n",
       "      <th>359</th>\n",
       "      <td>Kaseya</td>\n",
       "      <td>tech</td>\n",
       "      <td>300</td>\n",
       "      <td>300.0</td>\n",
       "      <td>70</td>\n",
       "      <td>70.000000</td>\n",
       "      <td>unknown</td>\n",
       "      <td>1</td>\n",
       "      <td>2021</td>\n",
       "      <td>JUL</td>\n",
       "      <td>USA</td>\n",
       "      <td>REvil</td>\n",
       "      <td>https://techcrunch.com/2021/07/05/kaseya-hack-...</td>\n",
       "    </tr>\n",
       "    <tr>\n",
       "      <th>357</th>\n",
       "      <td>Grupo Fleury</td>\n",
       "      <td>healthcare</td>\n",
       "      <td>10</td>\n",
       "      <td>686.0</td>\n",
       "      <td>unknown</td>\n",
       "      <td>9.051222</td>\n",
       "      <td>unknown</td>\n",
       "      <td>1</td>\n",
       "      <td>2021</td>\n",
       "      <td>JUN</td>\n",
       "      <td>Brazil</td>\n",
       "      <td>REvil</td>\n",
       "      <td>https://www.bleepingcomputer.com/news/security...</td>\n",
       "    </tr>\n",
       "    <tr>\n",
       "      <th>353</th>\n",
       "      <td>RBA</td>\n",
       "      <td>healthcare</td>\n",
       "      <td>5</td>\n",
       "      <td>22.0</td>\n",
       "      <td>unknown</td>\n",
       "      <td>9.051222</td>\n",
       "      <td>unknown</td>\n",
       "      <td>1</td>\n",
       "      <td>2021</td>\n",
       "      <td>APR</td>\n",
       "      <td>USA</td>\n",
       "      <td>unknown</td>\n",
       "      <td>https://threatpost.com/embryology-data-breach-...</td>\n",
       "    </tr>\n",
       "    <tr>\n",
       "      <th>349</th>\n",
       "      <td>Town of Freeport</td>\n",
       "      <td>government</td>\n",
       "      <td>10</td>\n",
       "      <td>127.0</td>\n",
       "      <td>0.01</td>\n",
       "      <td>0.010000</td>\n",
       "      <td>refused</td>\n",
       "      <td>1</td>\n",
       "      <td>2021</td>\n",
       "      <td>JUN</td>\n",
       "      <td>USA</td>\n",
       "      <td>Avaddon</td>\n",
       "      <td>https://www.pressherald.com/2021/06/15/freepor...</td>\n",
       "    </tr>\n",
       "    <tr>\n",
       "      <th>348</th>\n",
       "      <td>Invenergy</td>\n",
       "      <td>energy</td>\n",
       "      <td>10</td>\n",
       "      <td>734.0</td>\n",
       "      <td>unknown</td>\n",
       "      <td>9.051222</td>\n",
       "      <td>unknown</td>\n",
       "      <td>1</td>\n",
       "      <td>2021</td>\n",
       "      <td>JUN</td>\n",
       "      <td>USA</td>\n",
       "      <td>REvil</td>\n",
       "      <td>https://www.infosecurity-magazine.com/news/rev...</td>\n",
       "    </tr>\n",
       "  </tbody>\n",
       "</table>\n",
       "</div>"
      ],
      "text/plain": [
       "               Target      sector  organisation size 1,5,10,25,100,300   \\\n",
       "#ID                                                                       \n",
       "359            Kaseya        tech                                   300   \n",
       "357      Grupo Fleury  healthcare                                    10   \n",
       "353               RBA  healthcare                                     5   \n",
       "349  Town of Freeport  government                                    10   \n",
       "348         Invenergy      energy                                    10   \n",
       "\n",
       "     revenue $USD million      cost  ransom cost ransom paid  YEAR code  YEAR  \\\n",
       "#ID                                                                             \n",
       "359                  300.0       70    70.000000     unknown          1  2021   \n",
       "357                  686.0  unknown     9.051222     unknown          1  2021   \n",
       "353                   22.0  unknown     9.051222     unknown          1  2021   \n",
       "349                  127.0     0.01     0.010000     refused          1  2021   \n",
       "348                  734.0  unknown     9.051222     unknown          1  2021   \n",
       "\n",
       "    month location Ransomware  \\\n",
       "#ID                             \n",
       "359   JUL      USA      REvil   \n",
       "357   JUN   Brazil      REvil   \n",
       "353   APR      USA    unknown   \n",
       "349   JUN      USA    Avaddon   \n",
       "348   JUN      USA      REvil   \n",
       "\n",
       "                                                   URL  \n",
       "#ID                                                     \n",
       "359  https://techcrunch.com/2021/07/05/kaseya-hack-...  \n",
       "357  https://www.bleepingcomputer.com/news/security...  \n",
       "353  https://threatpost.com/embryology-data-breach-...  \n",
       "349  https://www.pressherald.com/2021/06/15/freepor...  \n",
       "348  https://www.infosecurity-magazine.com/news/rev...  "
      ]
     },
     "execution_count": 17,
     "metadata": {},
     "output_type": "execute_result"
    }
   ],
   "source": [
    "df.head()"
   ]
  },
  {
   "cell_type": "code",
   "execution_count": 18,
   "id": "b58d93f1",
   "metadata": {
    "execution": {
     "iopub.execute_input": "2023-08-04T10:52:22.900028Z",
     "iopub.status.busy": "2023-08-04T10:52:22.899610Z",
     "iopub.status.idle": "2023-08-04T10:52:22.912038Z",
     "shell.execute_reply": "2023-08-04T10:52:22.910903Z"
    },
    "papermill": {
     "duration": 0.023954,
     "end_time": "2023-08-04T10:52:22.914443",
     "exception": false,
     "start_time": "2023-08-04T10:52:22.890489",
     "status": "completed"
    },
    "tags": []
   },
   "outputs": [
    {
     "data": {
      "text/plain": [
       "Target                                  321\n",
       "sector                                   24\n",
       "organisation size 1,5,10,25,100,300       6\n",
       "revenue $USD million                    215\n",
       "cost                                     82\n",
       "ransom cost                              77\n",
       "ransom paid                               4\n",
       "YEAR code                                 6\n",
       "YEAR                                      8\n",
       "month                                    13\n",
       "location                                 64\n",
       "Ransomware                               56\n",
       "URL                                     303\n",
       "dtype: int64"
      ]
     },
     "execution_count": 18,
     "metadata": {},
     "output_type": "execute_result"
    }
   ],
   "source": [
    "df.nunique()"
   ]
  },
  {
   "cell_type": "code",
   "execution_count": 19,
   "id": "ff018398",
   "metadata": {
    "execution": {
     "iopub.execute_input": "2023-08-04T10:52:22.931938Z",
     "iopub.status.busy": "2023-08-04T10:52:22.931525Z",
     "iopub.status.idle": "2023-08-04T10:52:22.938877Z",
     "shell.execute_reply": "2023-08-04T10:52:22.938006Z"
    },
    "papermill": {
     "duration": 0.018593,
     "end_time": "2023-08-04T10:52:22.940955",
     "exception": false,
     "start_time": "2023-08-04T10:52:22.922362",
     "status": "completed"
    },
    "tags": []
   },
   "outputs": [
    {
     "data": {
      "text/plain": [
       "Target                                   object\n",
       "sector                                   object\n",
       "organisation size 1,5,10,25,100,300       int64\n",
       "revenue $USD million                    float64\n",
       "cost                                     object\n",
       "ransom cost                             float64\n",
       "ransom paid                              object\n",
       "YEAR code                                 int64\n",
       "YEAR                                      int64\n",
       "month                                    object\n",
       "location                                 object\n",
       "Ransomware                               object\n",
       "URL                                      object\n",
       "dtype: object"
      ]
     },
     "execution_count": 19,
     "metadata": {},
     "output_type": "execute_result"
    }
   ],
   "source": [
    "df.dtypes"
   ]
  },
  {
   "cell_type": "code",
   "execution_count": 20,
   "id": "5cdb9e20",
   "metadata": {
    "execution": {
     "iopub.execute_input": "2023-08-04T10:52:22.959098Z",
     "iopub.status.busy": "2023-08-04T10:52:22.958690Z",
     "iopub.status.idle": "2023-08-04T10:52:22.990012Z",
     "shell.execute_reply": "2023-08-04T10:52:22.988641Z"
    },
    "papermill": {
     "duration": 0.042977,
     "end_time": "2023-08-04T10:52:22.992209",
     "exception": false,
     "start_time": "2023-08-04T10:52:22.949232",
     "status": "completed"
    },
    "tags": []
   },
   "outputs": [
    {
     "data": {
      "text/html": [
       "<div>\n",
       "<style scoped>\n",
       "    .dataframe tbody tr th:only-of-type {\n",
       "        vertical-align: middle;\n",
       "    }\n",
       "\n",
       "    .dataframe tbody tr th {\n",
       "        vertical-align: top;\n",
       "    }\n",
       "\n",
       "    .dataframe thead th {\n",
       "        text-align: right;\n",
       "    }\n",
       "</style>\n",
       "<table border=\"1\" class=\"dataframe\">\n",
       "  <thead>\n",
       "    <tr style=\"text-align: right;\">\n",
       "      <th></th>\n",
       "      <th>organisation size 1,5,10,25,100,300</th>\n",
       "      <th>revenue $USD million</th>\n",
       "      <th>ransom cost</th>\n",
       "      <th>YEAR code</th>\n",
       "      <th>YEAR</th>\n",
       "    </tr>\n",
       "  </thead>\n",
       "  <tbody>\n",
       "    <tr>\n",
       "      <th>count</th>\n",
       "      <td>321.000000</td>\n",
       "      <td>321.000000</td>\n",
       "      <td>321.000000</td>\n",
       "      <td>321.000000</td>\n",
       "      <td>321.000000</td>\n",
       "    </tr>\n",
       "    <tr>\n",
       "      <th>mean</th>\n",
       "      <td>25.953271</td>\n",
       "      <td>10022.401869</td>\n",
       "      <td>17.225365</td>\n",
       "      <td>2.249221</td>\n",
       "      <td>2019.728972</td>\n",
       "    </tr>\n",
       "    <tr>\n",
       "      <th>std</th>\n",
       "      <td>50.555795</td>\n",
       "      <td>33147.344504</td>\n",
       "      <td>52.941403</td>\n",
       "      <td>1.438383</td>\n",
       "      <td>1.505636</td>\n",
       "    </tr>\n",
       "    <tr>\n",
       "      <th>min</th>\n",
       "      <td>1.000000</td>\n",
       "      <td>0.000000</td>\n",
       "      <td>0.002500</td>\n",
       "      <td>1.000000</td>\n",
       "      <td>2014.000000</td>\n",
       "    </tr>\n",
       "    <tr>\n",
       "      <th>25%</th>\n",
       "      <td>5.000000</td>\n",
       "      <td>35.000000</td>\n",
       "      <td>9.051222</td>\n",
       "      <td>1.000000</td>\n",
       "      <td>2019.000000</td>\n",
       "    </tr>\n",
       "    <tr>\n",
       "      <th>50%</th>\n",
       "      <td>10.000000</td>\n",
       "      <td>686.000000</td>\n",
       "      <td>9.051222</td>\n",
       "      <td>2.000000</td>\n",
       "      <td>2020.000000</td>\n",
       "    </tr>\n",
       "    <tr>\n",
       "      <th>75%</th>\n",
       "      <td>25.000000</td>\n",
       "      <td>3600.000000</td>\n",
       "      <td>9.051222</td>\n",
       "      <td>3.000000</td>\n",
       "      <td>2021.000000</td>\n",
       "    </tr>\n",
       "    <tr>\n",
       "      <th>max</th>\n",
       "      <td>300.000000</td>\n",
       "      <td>399000.000000</td>\n",
       "      <td>670.000000</td>\n",
       "      <td>6.000000</td>\n",
       "      <td>2021.000000</td>\n",
       "    </tr>\n",
       "  </tbody>\n",
       "</table>\n",
       "</div>"
      ],
      "text/plain": [
       "       organisation size 1,5,10,25,100,300   revenue $USD million   \\\n",
       "count                            321.000000             321.000000   \n",
       "mean                              25.953271           10022.401869   \n",
       "std                               50.555795           33147.344504   \n",
       "min                                1.000000               0.000000   \n",
       "25%                                5.000000              35.000000   \n",
       "50%                               10.000000             686.000000   \n",
       "75%                               25.000000            3600.000000   \n",
       "max                              300.000000          399000.000000   \n",
       "\n",
       "       ransom cost   YEAR code         YEAR  \n",
       "count   321.000000  321.000000   321.000000  \n",
       "mean     17.225365    2.249221  2019.728972  \n",
       "std      52.941403    1.438383     1.505636  \n",
       "min       0.002500    1.000000  2014.000000  \n",
       "25%       9.051222    1.000000  2019.000000  \n",
       "50%       9.051222    2.000000  2020.000000  \n",
       "75%       9.051222    3.000000  2021.000000  \n",
       "max     670.000000    6.000000  2021.000000  "
      ]
     },
     "execution_count": 20,
     "metadata": {},
     "output_type": "execute_result"
    }
   ],
   "source": [
    "df.describe()"
   ]
  },
  {
   "cell_type": "code",
   "execution_count": null,
   "id": "94a098c2",
   "metadata": {
    "papermill": {
     "duration": 0.008611,
     "end_time": "2023-08-04T10:52:23.009654",
     "exception": false,
     "start_time": "2023-08-04T10:52:23.001043",
     "status": "completed"
    },
    "tags": []
   },
   "outputs": [],
   "source": []
  }
 ],
 "metadata": {
  "kernelspec": {
   "display_name": "Python 3",
   "language": "python",
   "name": "python3"
  },
  "language_info": {
   "codemirror_mode": {
    "name": "ipython",
    "version": 3
   },
   "file_extension": ".py",
   "mimetype": "text/x-python",
   "name": "python",
   "nbconvert_exporter": "python",
   "pygments_lexer": "ipython3",
   "version": "3.10.12"
  },
  "papermill": {
   "default_parameters": {},
   "duration": 12.871711,
   "end_time": "2023-08-04T10:52:23.940338",
   "environment_variables": {},
   "exception": null,
   "input_path": "__notebook__.ipynb",
   "output_path": "__notebook__.ipynb",
   "parameters": {},
   "start_time": "2023-08-04T10:52:11.068627",
   "version": "2.4.0"
  }
 },
 "nbformat": 4,
 "nbformat_minor": 5
}
